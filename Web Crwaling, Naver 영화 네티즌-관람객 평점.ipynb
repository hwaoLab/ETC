{
 "cells": [
  {
   "cell_type": "markdown",
   "metadata": {},
   "source": [
    "## Web Crawling, 영화 네티즌-관람객 평점\n",
    "- Selenium: crawling tool, BeautifulSoup: parsing \n",
    "- 대상: 고유번호,(제목,클릭URL),평점, 감상평, 작성자, 날짜 \n",
    "- 링크: https://movie.naver.com/movie/point/af/list.nhn\n"
   ]
  },
  {
   "cell_type": "code",
   "execution_count": 1,
   "metadata": {},
   "outputs": [],
   "source": [
    "#  packagae download\n",
    "\n",
    "from selenium import webdriver\n",
    "from bs4 import BeautifulSoup\n",
    "import time\n",
    "import pandas as pd"
   ]
  },
  {
   "cell_type": "code",
   "execution_count": 3,
   "metadata": {},
   "outputs": [
    {
     "name": "stdout",
     "output_type": "stream",
     "text": [
      "https://movie.naver.com/movie/point/af/list.nhn?&page=1\n",
      "https://movie.naver.com/movie/point/af/list.nhn?&page=2\n",
      "https://movie.naver.com/movie/point/af/list.nhn?&page=3\n",
      "https://movie.naver.com/movie/point/af/list.nhn?&page=4\n",
      "https://movie.naver.com/movie/point/af/list.nhn?&page=5\n",
      "https://movie.naver.com/movie/point/af/list.nhn?&page=6\n",
      "https://movie.naver.com/movie/point/af/list.nhn?&page=7\n",
      "https://movie.naver.com/movie/point/af/list.nhn?&page=8\n",
      "https://movie.naver.com/movie/point/af/list.nhn?&page=9\n"
     ]
    }
   ],
   "source": [
    "# Chorme driverload\n",
    "driver_path =  'C:/Users/ghkdn/Jupyter/chromedriver_win32/chromedriver' \n",
    "url = 'https://movie.naver.com/movie/point/af/list.nhn' # 네이버 영화 페이지 진입\n",
    "\n",
    "browser = webdriver.Chrome(executable_path = driver_path)\n",
    "browser.get(url)\n",
    "\n",
    "name = [] \n",
    "name_link = []\n",
    "score = []\n",
    "contents_list = []\n",
    "page_list = [i for i in range(1,10)] #몇 페이지 까지 가져올지 선택 \n",
    "\n",
    "# 페이지별 href link 가져오기\n",
    "for num in page_list:\n",
    "    page_url_base = browser.find_element_by_css_selector('.paging a').get_attribute(\"href\")[:-1] # 끝자리[-1]: 페이지수를 담고 있음  \n",
    "    page_url = page_url_base + str(num)\n",
    "    browser.get(page_url)\n",
    "    print(page_url)\n",
    "    \n",
    "    # 페이지 클릭후, 이름, 평점, 텍스트 가져오기 \n",
    "    boxes = browser.find_elements_by_css_selector('.list_netizen .title')\n",
    "    for box in boxes:\n",
    "        name.append(box.find_element_by_css_selector(\"a.movie.color_b\").text)\n",
    "        name_link.append(box.find_element_by_css_selector(\"a\").get_attribute(\"href\"))\n",
    "        score.append(int(box.find_element_by_css_selector(\"div.list_netizen_score em\").text))\n",
    "\n",
    "        reduce_str = box.find_element_by_css_selector(\"div.list_netizen_score\").text\n",
    "        contents = box.text\n",
    "        contents = contents[(contents.find(reduce_str)+len(reduce_str)):]\n",
    "        contents_list.append(contents[1:contents.find(\"신고\")])\n",
    "browser.quit()"
   ]
  },
  {
   "cell_type": "code",
   "execution_count": 4,
   "metadata": {},
   "outputs": [
    {
     "data": {
      "text/plain": [
       "90"
      ]
     },
     "execution_count": 4,
     "metadata": {},
     "output_type": "execute_result"
    }
   ],
   "source": [
    "len(name)"
   ]
  },
  {
   "cell_type": "code",
   "execution_count": 6,
   "metadata": {},
   "outputs": [],
   "source": [
    "data = pd.DataFrame(name,columns =[\"name\"])# name_link,contents)\n",
    "data[\"score\"] = score\n",
    "data[\"contents\"]= contents_list\n",
    "data[\"name_link\"] = name_link\n",
    "#data = data.set_index(\"name\")"
   ]
  },
  {
   "cell_type": "code",
   "execution_count": 9,
   "metadata": {},
   "outputs": [
    {
     "data": {
      "text/plain": [
       "1     배우들 연기력 말할 것도 없이 너무 좋았고 특히 이레 ,, 성인 배우들 사이에서 연...\n",
       "2                              억지 신파 거기다가 노잼 더해서 설정 오류 \n",
       "4                                        재미없어요 정말로 짜증나 \n",
       "7                   진짜 이거는 아니다 라는 생각이 들었음...강동원 진짜 잘생김 \n",
       "8     주체성도 없는 영화. 그저 부산행 이름값에 편승하여 돈벌이용 영화이다. 신파극이 이...\n",
       "12    마지막에 정현이 누나 분노의 질주 하는거.. 웃으면 안되눈데 왜케 웃끼냨ㅋㅋ뭔 꼬맹...\n",
       "13    여러분 이거 제발 보지 마세요 초반엔 괜찮다가 중후반부터 ㅈ됩니다 그래도 자기는 흑...\n",
       "14    기대를 거의 안하고 봐서 그런지 생각보단 볼만했음... 근데 갑자기 시작해서 갑자기...\n",
       "17                                     연출, 각본 1점..돈아까움 \n",
       "18             아무생각없이 평점따위 신경 안쓰고 봤는데 평점1점도 아깝다고 느낀영화. \n",
       "20       일관성없는 좀비. 소리에 민감한데. 주인공에게는 전혀민감하지 않다.좀비인가 싶다. \n",
       "25                                                     \n",
       "30    정확하게 팩트만 적는다. 1.연기자들 연기수준이 쓰레기다 2. 진짜 내용이 쓰레기다...\n",
       "32                                 아 그냥 말함... 돈 시간 아깝다 \n",
       "34    스토리가상대적으로빈약하고전개가섬세하진못하지만조금만내려놓고본다면레이싱장면도상당히스릴있...\n",
       "37                                        ***사라진 시간*** \n",
       "38                                개봉영화가 없어서 그나마 다행이다.. \n",
       "40    하아~이걸 돈주고보다니;;처절하게 유치하고 보고있자니 짜증남.막장 아침드라마 반도 ...\n",
       "44    너무 많은것을 기대하지 마라...이정도 제작비에 나름 잘 만든 좀비영화임에 틀림없다...\n",
       "52                  배우들의 눈빛과 감정표현이 마음에 와닿았어요 재밌게 감상했어요 \n",
       "53                                                     \n",
       "54                                     자동차액션신 진짜 멋있어요♡ \n",
       "55                                                     \n",
       "56            재밌게봤어요 이제는 우리가 헤어져야 할시간 그부분 빵터지고요강동원 멋져요 \n",
       "57                                               완전 꿀잼 \n",
       "59    결말은 좀 아쉬웠지만 그래도 처음부터 끝까지 몰입감 장난아니고아역배우들 연기도 너무...\n",
       "64            나쁘지 않음 다만 좀 억지스러운 부분이 있음아무 생각 안하고 보면 좋을듯 \n",
       "68                                              개노잼 ㅠㅠ \n",
       "70    좀비영화라기 보다는 좀비는 방해물일뿐 한국판 매드맥스라고 생각한다. 겁나빠른 좀비를...\n",
       "71                    정말.. 백두산 2편을 보는듯 햇습니다..너무너무 아숩.. \n",
       "73                                           하...보지마세요 \n",
       "74                                                     \n",
       "77                            4년동안 영화가 퇴보했네...ㅈㄴ 재미없어요 \n",
       "80                                                     \n",
       "81    부산행과 또 다르게 잼있다. 강동원 여전히 멋지시고 이정현님도 듬직하게 큰딸도 카리...\n",
       "83        동원오빠도 수고많았고이정현씨 계속 연기 해주세요좀비분들도 너무너무수고많으셨습니다 \n",
       "85    원래 후기 안 쓰는데 중간에 나와서 쓰는중. 돈을 들인건 인정. 쓸데없이 쓴것두 인...\n",
       "89                                도전하는 영화임이 느껴져 좋았습니다. \n",
       "Name: contents, dtype: object"
      ]
     },
     "execution_count": 9,
     "metadata": {},
     "output_type": "execute_result"
    }
   ],
   "source": [
    "data[data['name']==\"반도\"].contents"
   ]
  },
  {
   "cell_type": "code",
   "execution_count": null,
   "metadata": {},
   "outputs": [],
   "source": []
  }
 ],
 "metadata": {
  "kernelspec": {
   "display_name": "Python 3",
   "language": "python",
   "name": "python3"
  },
  "language_info": {
   "codemirror_mode": {
    "name": "ipython",
    "version": 3
   },
   "file_extension": ".py",
   "mimetype": "text/x-python",
   "name": "python",
   "nbconvert_exporter": "python",
   "pygments_lexer": "ipython3",
   "version": "3.7.4"
  }
 },
 "nbformat": 4,
 "nbformat_minor": 2
}
