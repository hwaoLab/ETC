{
 "cells": [
  {
   "cell_type": "markdown",
   "metadata": {},
   "source": [
    "## 2020 빅콘테스트\n",
    "- 참여: 데이터분석 챔피언리그\n",
    "- 목표: 평가데이터 기반의 편성별＇판매 실적‘ 예측 정확도 및 편성 최적화 방안(모형)\n",
    "- 링크: https://www.bigcontest.or.kr/points/content.php#ct05\n",
    "\n",
    "----------------------"
   ]
  },
  {
   "cell_type": "markdown",
   "metadata": {},
   "source": [
    "### CH1. 데이터 정제 for  EDA "
   ]
  },
  {
   "cell_type": "code",
   "execution_count": 1,
   "metadata": {},
   "outputs": [],
   "source": [
    "import pandas as pd"
   ]
  },
  {
   "cell_type": "code",
   "execution_count": 2,
   "metadata": {},
   "outputs": [],
   "source": [
    "# 주의) \n",
    "try:\n",
    "    raw_data = pd.read_csv(\"C:/Users/ghkdn/Jupyter/Big_Contest/performance_Data.csv\")\n",
    "except:\n",
    "    print(\"파일 경로 설정을 바꾸고 CSV파일로 변경할 것\")"
   ]
  },
  {
   "cell_type": "code",
   "execution_count": 3,
   "metadata": {},
   "outputs": [],
   "source": [
    "data_performance = raw_data.T.reset_index()\n",
    "data_performance = data_performance.drop(columns=['index']).T\n",
    "data_performance = data_performance.rename(columns=data_performance.iloc[0])\n",
    "data_performance = data_performance.drop(data_performance.index[0])\n",
    "#data_performance = data_performance.set_index(\"방송일시\")\n",
    "data_performance['방송일시'] = pd.to_datetime(data_performance['방송일시'], format = '%Y-%m-%d %H:%M')"
   ]
  },
  {
   "cell_type": "markdown",
   "metadata": {},
   "source": [
    "###  1-1. NS Shop 일자별, 상품군 및 상품명별 실적 데이터 (2019년)"
   ]
  },
  {
   "cell_type": "code",
   "execution_count": 4,
   "metadata": {},
   "outputs": [
    {
     "name": "stdout",
     "output_type": "stream",
     "text": [
      "매트릭스 크기: (38309, 8)\n"
     ]
    },
    {
     "data": {
      "text/html": [
       "<div>\n",
       "<style scoped>\n",
       "    .dataframe tbody tr th:only-of-type {\n",
       "        vertical-align: middle;\n",
       "    }\n",
       "\n",
       "    .dataframe tbody tr th {\n",
       "        vertical-align: top;\n",
       "    }\n",
       "\n",
       "    .dataframe thead th {\n",
       "        text-align: right;\n",
       "    }\n",
       "</style>\n",
       "<table border=\"1\" class=\"dataframe\">\n",
       "  <thead>\n",
       "    <tr style=\"text-align: right;\">\n",
       "      <th></th>\n",
       "      <th>방송일시</th>\n",
       "      <th>노출(분)</th>\n",
       "      <th>마더코드</th>\n",
       "      <th>상품코드</th>\n",
       "      <th>상품명</th>\n",
       "      <th>상품군</th>\n",
       "      <th>판매단가</th>\n",
       "      <th>취급액</th>\n",
       "    </tr>\n",
       "  </thead>\n",
       "  <tbody>\n",
       "    <tr>\n",
       "      <td>1</td>\n",
       "      <td>2019-01-01 06:00:00</td>\n",
       "      <td>20</td>\n",
       "      <td>100346</td>\n",
       "      <td>201072</td>\n",
       "      <td>테이트 남성 셀린니트3종</td>\n",
       "      <td>의류</td>\n",
       "      <td>39,900</td>\n",
       "      <td>2,099,000</td>\n",
       "    </tr>\n",
       "    <tr>\n",
       "      <td>2</td>\n",
       "      <td>2019-01-01 06:00:00</td>\n",
       "      <td>NaN</td>\n",
       "      <td>100346</td>\n",
       "      <td>201079</td>\n",
       "      <td>테이트 여성 셀린니트3종</td>\n",
       "      <td>의류</td>\n",
       "      <td>39,900</td>\n",
       "      <td>4,371,000</td>\n",
       "    </tr>\n",
       "    <tr>\n",
       "      <td>3</td>\n",
       "      <td>2019-01-01 06:20:00</td>\n",
       "      <td>20</td>\n",
       "      <td>100346</td>\n",
       "      <td>201072</td>\n",
       "      <td>테이트 남성 셀린니트3종</td>\n",
       "      <td>의류</td>\n",
       "      <td>39,900</td>\n",
       "      <td>3,262,000</td>\n",
       "    </tr>\n",
       "    <tr>\n",
       "      <td>4</td>\n",
       "      <td>2019-01-01 06:20:00</td>\n",
       "      <td>NaN</td>\n",
       "      <td>100346</td>\n",
       "      <td>201079</td>\n",
       "      <td>테이트 여성 셀린니트3종</td>\n",
       "      <td>의류</td>\n",
       "      <td>39,900</td>\n",
       "      <td>6,955,000</td>\n",
       "    </tr>\n",
       "    <tr>\n",
       "      <td>5</td>\n",
       "      <td>2019-01-01 06:40:00</td>\n",
       "      <td>20</td>\n",
       "      <td>100346</td>\n",
       "      <td>201072</td>\n",
       "      <td>테이트 남성 셀린니트3종</td>\n",
       "      <td>의류</td>\n",
       "      <td>39,900</td>\n",
       "      <td>6,672,000</td>\n",
       "    </tr>\n",
       "  </tbody>\n",
       "</table>\n",
       "</div>"
      ],
      "text/plain": [
       "                 방송일시 노출(분)    마더코드    상품코드            상품명 상품군      판매단가  \\\n",
       "1 2019-01-01 06:00:00   20   100346  201072  테이트 남성 셀린니트3종  의류   39,900    \n",
       "2 2019-01-01 06:00:00   NaN  100346  201079  테이트 여성 셀린니트3종  의류   39,900    \n",
       "3 2019-01-01 06:20:00   20   100346  201072  테이트 남성 셀린니트3종  의류   39,900    \n",
       "4 2019-01-01 06:20:00   NaN  100346  201079  테이트 여성 셀린니트3종  의류   39,900    \n",
       "5 2019-01-01 06:40:00   20   100346  201072  테이트 남성 셀린니트3종  의류   39,900    \n",
       "\n",
       "          취급액   \n",
       "1   2,099,000   \n",
       "2   4,371,000   \n",
       "3   3,262,000   \n",
       "4   6,955,000   \n",
       "5   6,672,000   "
      ]
     },
     "execution_count": 4,
     "metadata": {},
     "output_type": "execute_result"
    }
   ],
   "source": [
    "print(f'매트릭스 크기: {data_performance.shape}')\n",
    "data_performance.head()"
   ]
  },
  {
   "cell_type": "markdown",
   "metadata": {},
   "source": [
    "### 1-2. NS SHOP 일자별, 시간대별 시청률 데이터  (2019년)"
   ]
  },
  {
   "cell_type": "code",
   "execution_count": 5,
   "metadata": {},
   "outputs": [],
   "source": [
    "# 주의) \n",
    "try:\n",
    "    raw_data_view = pd.read_csv(\"viewship_Data.csv\")\n",
    "except:\n",
    "    print(\"파일 경로 설정을 바꾸고 CSV파일로 변경할 것\")"
   ]
  },
  {
   "cell_type": "code",
   "execution_count": 6,
   "metadata": {},
   "outputs": [
    {
     "name": "stdout",
     "output_type": "stream",
     "text": [
      "매트릭스 크기: (366, 1442)\n"
     ]
    },
    {
     "data": {
      "text/html": [
       "<div>\n",
       "<style scoped>\n",
       "    .dataframe tbody tr th:only-of-type {\n",
       "        vertical-align: middle;\n",
       "    }\n",
       "\n",
       "    .dataframe tbody tr th {\n",
       "        vertical-align: top;\n",
       "    }\n",
       "\n",
       "    .dataframe thead th {\n",
       "        text-align: right;\n",
       "    }\n",
       "</style>\n",
       "<table border=\"1\" class=\"dataframe\">\n",
       "  <thead>\n",
       "    <tr style=\"text-align: right;\">\n",
       "      <th></th>\n",
       "      <th>시간대</th>\n",
       "      <th>02:00</th>\n",
       "      <th>02:01</th>\n",
       "      <th>02:02</th>\n",
       "      <th>02:03</th>\n",
       "      <th>02:04</th>\n",
       "      <th>02:05</th>\n",
       "      <th>02:06</th>\n",
       "      <th>02:07</th>\n",
       "      <th>02:08</th>\n",
       "      <th>...</th>\n",
       "      <th>01:51</th>\n",
       "      <th>01:52</th>\n",
       "      <th>01:53</th>\n",
       "      <th>01:54</th>\n",
       "      <th>01:55</th>\n",
       "      <th>01:56</th>\n",
       "      <th>01:57</th>\n",
       "      <th>01:58</th>\n",
       "      <th>01:59</th>\n",
       "      <th>월화수목금토일02:00-01:59</th>\n",
       "    </tr>\n",
       "  </thead>\n",
       "  <tbody>\n",
       "    <tr>\n",
       "      <td>1</td>\n",
       "      <td>2019-01-01</td>\n",
       "      <td>0</td>\n",
       "      <td>0</td>\n",
       "      <td>0</td>\n",
       "      <td>0</td>\n",
       "      <td>0</td>\n",
       "      <td>0</td>\n",
       "      <td>0</td>\n",
       "      <td>0</td>\n",
       "      <td>0</td>\n",
       "      <td>...</td>\n",
       "      <td>0</td>\n",
       "      <td>0</td>\n",
       "      <td>0</td>\n",
       "      <td>0</td>\n",
       "      <td>0</td>\n",
       "      <td>0</td>\n",
       "      <td>0</td>\n",
       "      <td>0</td>\n",
       "      <td>0</td>\n",
       "      <td>0.004</td>\n",
       "    </tr>\n",
       "    <tr>\n",
       "      <td>2</td>\n",
       "      <td>2019-01-02</td>\n",
       "      <td>0</td>\n",
       "      <td>0</td>\n",
       "      <td>0</td>\n",
       "      <td>0</td>\n",
       "      <td>0</td>\n",
       "      <td>0</td>\n",
       "      <td>0</td>\n",
       "      <td>0</td>\n",
       "      <td>0</td>\n",
       "      <td>...</td>\n",
       "      <td>0</td>\n",
       "      <td>0</td>\n",
       "      <td>0</td>\n",
       "      <td>0</td>\n",
       "      <td>0</td>\n",
       "      <td>0</td>\n",
       "      <td>0</td>\n",
       "      <td>0</td>\n",
       "      <td>0</td>\n",
       "      <td>0.006</td>\n",
       "    </tr>\n",
       "    <tr>\n",
       "      <td>3</td>\n",
       "      <td>2019-01-03</td>\n",
       "      <td>0</td>\n",
       "      <td>0</td>\n",
       "      <td>0</td>\n",
       "      <td>0.014</td>\n",
       "      <td>0</td>\n",
       "      <td>0</td>\n",
       "      <td>0</td>\n",
       "      <td>0</td>\n",
       "      <td>0</td>\n",
       "      <td>...</td>\n",
       "      <td>0</td>\n",
       "      <td>0</td>\n",
       "      <td>0</td>\n",
       "      <td>0</td>\n",
       "      <td>0</td>\n",
       "      <td>0</td>\n",
       "      <td>0</td>\n",
       "      <td>0</td>\n",
       "      <td>0</td>\n",
       "      <td>0.002</td>\n",
       "    </tr>\n",
       "    <tr>\n",
       "      <td>4</td>\n",
       "      <td>2019-01-04</td>\n",
       "      <td>0</td>\n",
       "      <td>0</td>\n",
       "      <td>0</td>\n",
       "      <td>0</td>\n",
       "      <td>0</td>\n",
       "      <td>0</td>\n",
       "      <td>0</td>\n",
       "      <td>0</td>\n",
       "      <td>0</td>\n",
       "      <td>...</td>\n",
       "      <td>0</td>\n",
       "      <td>0</td>\n",
       "      <td>0</td>\n",
       "      <td>0</td>\n",
       "      <td>0</td>\n",
       "      <td>0</td>\n",
       "      <td>0</td>\n",
       "      <td>0</td>\n",
       "      <td>0</td>\n",
       "      <td>0.003</td>\n",
       "    </tr>\n",
       "    <tr>\n",
       "      <td>5</td>\n",
       "      <td>2019-01-05</td>\n",
       "      <td>0</td>\n",
       "      <td>0</td>\n",
       "      <td>0</td>\n",
       "      <td>0</td>\n",
       "      <td>0</td>\n",
       "      <td>0</td>\n",
       "      <td>0</td>\n",
       "      <td>0</td>\n",
       "      <td>0</td>\n",
       "      <td>...</td>\n",
       "      <td>0</td>\n",
       "      <td>0</td>\n",
       "      <td>0</td>\n",
       "      <td>0</td>\n",
       "      <td>0</td>\n",
       "      <td>0.027</td>\n",
       "      <td>0</td>\n",
       "      <td>0</td>\n",
       "      <td>0</td>\n",
       "      <td>0.002</td>\n",
       "    </tr>\n",
       "  </tbody>\n",
       "</table>\n",
       "<p>5 rows × 1442 columns</p>\n",
       "</div>"
      ],
      "text/plain": [
       "0         시간대 02:00 02:01 02:02  02:03 02:04 02:05 02:06 02:07 02:08  ...  \\\n",
       "1  2019-01-01     0     0     0      0     0     0     0     0     0  ...   \n",
       "2  2019-01-02     0     0     0      0     0     0     0     0     0  ...   \n",
       "3  2019-01-03     0     0     0  0.014     0     0     0     0     0  ...   \n",
       "4  2019-01-04     0     0     0      0     0     0     0     0     0  ...   \n",
       "5  2019-01-05     0     0     0      0     0     0     0     0     0  ...   \n",
       "\n",
       "0 01:51 01:52 01:53 01:54 01:55  01:56 01:57 01:58 01:59 월화수목금토일02:00-01:59  \n",
       "1     0     0     0     0     0      0     0     0     0              0.004  \n",
       "2     0     0     0     0     0      0     0     0     0              0.006  \n",
       "3     0     0     0     0     0      0     0     0     0              0.002  \n",
       "4     0     0     0     0     0      0     0     0     0              0.003  \n",
       "5     0     0     0     0     0  0.027     0     0     0              0.002  \n",
       "\n",
       "[5 rows x 1442 columns]"
      ]
     },
     "execution_count": 6,
     "metadata": {},
     "output_type": "execute_result"
    }
   ],
   "source": [
    "raw_data_view = pd.read_csv(\"viewship_Data.csv\")\n",
    "data_view = raw_data_view.T.reset_index()\n",
    "data_view = data_view.drop(columns=['index'])\n",
    "data_view = data_view.T.set_index(0).T\n",
    "\n",
    "print(f'매트릭스 크기: {data_view.shape}')\n",
    "data_view.head()"
   ]
  },
  {
   "cell_type": "markdown",
   "metadata": {},
   "source": [
    "#### 주의사항: 맨끝 행과 열은 합계를 의미\n",
    "- 마지막 일자열이 (2019-01-01 to 2019-12-31)으로 구성되어있는데, 해당열은 전체 시간대별 시청율 총합을 의미한다.  \n",
    "  ex. (2019-01-01 to 2019-12-31) 열의 1행은 02:00 시간대 2019년도 시청률 총합을 의미한다.  \n",
    "- 마찬가지로 행의 경우, (월화수목금토일02:00-01:59)으로 구성되어 있는데, 해당 행은 전체 년도별 시청률 총합을 의미한다.\n",
    "\n",
    "SOL) 마지막 행, 열 제거 필요"
   ]
  },
  {
   "cell_type": "code",
   "execution_count": 75,
   "metadata": {},
   "outputs": [
    {
     "name": "stdout",
     "output_type": "stream",
     "text": [
      "마지막열 컬럼명: '월화수목금토일02:00-01:59'로서 요일 합을 의미 \n",
      "마지막행 컬럼명: '2019-01-01 to 2019-12-31'로서 요일 합을 의미 \n"
     ]
    }
   ],
   "source": [
    "print(f\"마지막열 컬럼명: '{data_view.iloc[:,-1:].columns[0]}'로서 요일 합을 의미 \" )\n",
    "print(f\"마지막행 컬럼명: '{data_view['시간대'][-1:].values[0]}'로서 요일 합을 의미 \" )"
   ]
  },
  {
   "cell_type": "code",
   "execution_count": 76,
   "metadata": {},
   "outputs": [
    {
     "data": {
      "text/html": [
       "<div>\n",
       "<style scoped>\n",
       "    .dataframe tbody tr th:only-of-type {\n",
       "        vertical-align: middle;\n",
       "    }\n",
       "\n",
       "    .dataframe tbody tr th {\n",
       "        vertical-align: top;\n",
       "    }\n",
       "\n",
       "    .dataframe thead th {\n",
       "        text-align: right;\n",
       "    }\n",
       "</style>\n",
       "<table border=\"1\" class=\"dataframe\">\n",
       "  <thead>\n",
       "    <tr style=\"text-align: right;\">\n",
       "      <th></th>\n",
       "      <th>시간대</th>\n",
       "      <th>02:00</th>\n",
       "      <th>02:01</th>\n",
       "      <th>02:02</th>\n",
       "      <th>02:03</th>\n",
       "      <th>02:04</th>\n",
       "      <th>02:05</th>\n",
       "      <th>02:06</th>\n",
       "      <th>02:07</th>\n",
       "      <th>02:08</th>\n",
       "      <th>...</th>\n",
       "      <th>01:50</th>\n",
       "      <th>01:51</th>\n",
       "      <th>01:52</th>\n",
       "      <th>01:53</th>\n",
       "      <th>01:54</th>\n",
       "      <th>01:55</th>\n",
       "      <th>01:56</th>\n",
       "      <th>01:57</th>\n",
       "      <th>01:58</th>\n",
       "      <th>01:59</th>\n",
       "    </tr>\n",
       "  </thead>\n",
       "  <tbody>\n",
       "    <tr>\n",
       "      <td>1</td>\n",
       "      <td>2019-01-01</td>\n",
       "      <td>0</td>\n",
       "      <td>0</td>\n",
       "      <td>0</td>\n",
       "      <td>0</td>\n",
       "      <td>0</td>\n",
       "      <td>0</td>\n",
       "      <td>0</td>\n",
       "      <td>0</td>\n",
       "      <td>0</td>\n",
       "      <td>...</td>\n",
       "      <td>0</td>\n",
       "      <td>0</td>\n",
       "      <td>0</td>\n",
       "      <td>0</td>\n",
       "      <td>0</td>\n",
       "      <td>0</td>\n",
       "      <td>0</td>\n",
       "      <td>0</td>\n",
       "      <td>0</td>\n",
       "      <td>0</td>\n",
       "    </tr>\n",
       "    <tr>\n",
       "      <td>2</td>\n",
       "      <td>2019-01-02</td>\n",
       "      <td>0</td>\n",
       "      <td>0</td>\n",
       "      <td>0</td>\n",
       "      <td>0</td>\n",
       "      <td>0</td>\n",
       "      <td>0</td>\n",
       "      <td>0</td>\n",
       "      <td>0</td>\n",
       "      <td>0</td>\n",
       "      <td>...</td>\n",
       "      <td>0</td>\n",
       "      <td>0</td>\n",
       "      <td>0</td>\n",
       "      <td>0</td>\n",
       "      <td>0</td>\n",
       "      <td>0</td>\n",
       "      <td>0</td>\n",
       "      <td>0</td>\n",
       "      <td>0</td>\n",
       "      <td>0</td>\n",
       "    </tr>\n",
       "    <tr>\n",
       "      <td>3</td>\n",
       "      <td>2019-01-03</td>\n",
       "      <td>0</td>\n",
       "      <td>0</td>\n",
       "      <td>0</td>\n",
       "      <td>0.014</td>\n",
       "      <td>0</td>\n",
       "      <td>0</td>\n",
       "      <td>0</td>\n",
       "      <td>0</td>\n",
       "      <td>0</td>\n",
       "      <td>...</td>\n",
       "      <td>0</td>\n",
       "      <td>0</td>\n",
       "      <td>0</td>\n",
       "      <td>0</td>\n",
       "      <td>0</td>\n",
       "      <td>0</td>\n",
       "      <td>0</td>\n",
       "      <td>0</td>\n",
       "      <td>0</td>\n",
       "      <td>0</td>\n",
       "    </tr>\n",
       "    <tr>\n",
       "      <td>4</td>\n",
       "      <td>2019-01-04</td>\n",
       "      <td>0</td>\n",
       "      <td>0</td>\n",
       "      <td>0</td>\n",
       "      <td>0</td>\n",
       "      <td>0</td>\n",
       "      <td>0</td>\n",
       "      <td>0</td>\n",
       "      <td>0</td>\n",
       "      <td>0</td>\n",
       "      <td>...</td>\n",
       "      <td>0</td>\n",
       "      <td>0</td>\n",
       "      <td>0</td>\n",
       "      <td>0</td>\n",
       "      <td>0</td>\n",
       "      <td>0</td>\n",
       "      <td>0</td>\n",
       "      <td>0</td>\n",
       "      <td>0</td>\n",
       "      <td>0</td>\n",
       "    </tr>\n",
       "    <tr>\n",
       "      <td>5</td>\n",
       "      <td>2019-01-05</td>\n",
       "      <td>0</td>\n",
       "      <td>0</td>\n",
       "      <td>0</td>\n",
       "      <td>0</td>\n",
       "      <td>0</td>\n",
       "      <td>0</td>\n",
       "      <td>0</td>\n",
       "      <td>0</td>\n",
       "      <td>0</td>\n",
       "      <td>...</td>\n",
       "      <td>0</td>\n",
       "      <td>0</td>\n",
       "      <td>0</td>\n",
       "      <td>0</td>\n",
       "      <td>0</td>\n",
       "      <td>0</td>\n",
       "      <td>0.027</td>\n",
       "      <td>0</td>\n",
       "      <td>0</td>\n",
       "      <td>0</td>\n",
       "    </tr>\n",
       "  </tbody>\n",
       "</table>\n",
       "<p>5 rows × 1441 columns</p>\n",
       "</div>"
      ],
      "text/plain": [
       "0         시간대 02:00 02:01 02:02  02:03 02:04 02:05 02:06 02:07 02:08  ...  \\\n",
       "1  2019-01-01     0     0     0      0     0     0     0     0     0  ...   \n",
       "2  2019-01-02     0     0     0      0     0     0     0     0     0  ...   \n",
       "3  2019-01-03     0     0     0  0.014     0     0     0     0     0  ...   \n",
       "4  2019-01-04     0     0     0      0     0     0     0     0     0  ...   \n",
       "5  2019-01-05     0     0     0      0     0     0     0     0     0  ...   \n",
       "\n",
       "0 01:50 01:51 01:52 01:53 01:54 01:55  01:56 01:57 01:58 01:59  \n",
       "1     0     0     0     0     0     0      0     0     0     0  \n",
       "2     0     0     0     0     0     0      0     0     0     0  \n",
       "3     0     0     0     0     0     0      0     0     0     0  \n",
       "4     0     0     0     0     0     0      0     0     0     0  \n",
       "5     0     0     0     0     0     0  0.027     0     0     0  \n",
       "\n",
       "[5 rows x 1441 columns]"
      ]
     },
     "execution_count": 76,
     "metadata": {},
     "output_type": "execute_result"
    }
   ],
   "source": [
    "data_view = data_view.drop(columns=[\"월화수목금토일02:00-01:59\"])\n",
    "data_view.drop(data_view.tail(1).index,inplace=True)\n",
    "data_view.head()"
   ]
  },
  {
   "cell_type": "code",
   "execution_count": 261,
   "metadata": {},
   "outputs": [],
   "source": [
    "'''\n",
    "# 저장하기\n",
    "data_performance.to_csv(\"data_performance_forEDA.csv\")\n",
    "data_view.to_csv(\"data_view_forEDA.csv\")\n",
    "'''"
   ]
  },
  {
   "cell_type": "markdown",
   "metadata": {},
   "source": [
    "----------------------"
   ]
  },
  {
   "cell_type": "markdown",
   "metadata": {},
   "source": [
    "### CH2. EDA 탐색적 자료분석\n",
    "- 데이터 스튜디오 사용\n",
    "- GROUP BY를 통한 그룹별 데이터 특징 판단  \n",
    "- LINK: https://datastudio.google.com/u/0/reporting/8d4ae5c7-9700-4e62-9365-49fa974fca60/page/BufaB/edit"
   ]
  },
  {
   "cell_type": "markdown",
   "metadata": {},
   "source": [
    "#### Step1 . 결측값 비율 확인\n",
    "* NAN 값 확인\n",
    "* 상식수준에서 이상치 확인 ex.수치형 자료열에 문자 \n",
    "* 정량자료 모두 float형으로 통일"
   ]
  },
  {
   "cell_type": "markdown",
   "metadata": {},
   "source": [
    "#### 1-1. 상식수준에서의 이상치 확인  "
   ]
  },
  {
   "cell_type": "code",
   "execution_count": 113,
   "metadata": {},
   "outputs": [
    {
     "name": "stdout",
     "output_type": "stream",
     "text": [
      "*전체 결측값 확인*\n",
      "[방송일시] 결측값 개수 확인:0.0%\n",
      "[노출(분)] 결측값 개수 확인:43.81%\n",
      "[마더코드] 결측값 개수 확인:0.0%\n",
      "[상품코드] 결측값 개수 확인:0.0%\n",
      "[상품명] 결측값 개수 확인:0.0%\n",
      "[상품군] 결측값 개수 확인:0.0%\n",
      "[판매단가] 결측값 개수 확인:0.0%\n",
      "[ 취급액 ] 결측값 개수 확인:2.45%\n",
      "\n",
      "\n",
      "\n",
      " *수치데이터 열에서 수치아닌 데이터 확인*\n",
      "[노출(분)] 전체대비 이상치(+결측치) 비율:43.81% \n",
      "[노출(분)] 이상치 형태:{'nan'}\n",
      "[판매단가] 전체대비 이상치(+결측치) 비율:2.45% \n",
      "[판매단가] 이상치 형태:{'-'}\n",
      "[ 취급액 ] 전체대비 이상치(+결측치) 비율:2.45% \n",
      "[ 취급액 ] 이상치 형태:{'nan'}\n"
     ]
    }
   ],
   "source": [
    "import matplotlib.pyplot as plt\n",
    "import numpy as np\n",
    "\n",
    "# 결측값 확인\n",
    "print(\"*전체 결측값 확인*\")\n",
    "for i in data_performance.columns:\n",
    "    print(f\"[{i}] 결측값 개수 확인:{round(data_performance[i].isnull().sum()/len(data_performance)*100,2)}%\")\n",
    "\n",
    "print(\"\\n\\n\\n *수치데이터 열에서 수치아닌 데이터 확인*\")\n",
    "\n",
    "# 수치형 데이터에서 수치아닌 값 확인 \n",
    "def numeric_check(DF,col_list):\n",
    "    for col_name in col_list:\n",
    "        missing_value_num = 0\n",
    "        missing_type = []\n",
    "        for i in DF[col_name]:\n",
    "            i = str(i)\n",
    "            i = i.rstrip().lstrip().replace(\",\",\"\")\n",
    "            if i.isdigit() == True:\n",
    "                continue\n",
    "            elif i.isdigit() == False:\n",
    "                missing_value_num+=1 \n",
    "                missing_type.append(i)\n",
    "        print(f\"[{col_name}] 전체대비 이상치(+결측치) 비율:{round((missing_value_num/len(DF[col_name])) *100,2)}% \")\n",
    "        print(f\"[{col_name}] 이상치 형태:{set(missing_type)}\")\n",
    "\n",
    "numeric_check(data_performance,['노출(분)','판매단가',' 취급액 '])"
   ]
  },
  {
   "cell_type": "markdown",
   "metadata": {},
   "source": [
    "SOL) \n",
    "1. 결측값과 상식수준에서 이상치가 포함된 열은 [노출(분), 판매단가, 취급액)]\n",
    "2. 노출(분)의 경우, 전체의 43.81%으로 절반정도가 결측값이 있고 취급액은 2.45%이다.\n",
    "3. 수치형 데이터의 경우, 판매단가는 '-'로 채워진 데이터가 2.45% 확인된다.\n",
    "4. 특이점은 취급액이 결측값인 행에서 판매단가는 '-' 으로 채워져있다."
   ]
  },
  {
   "cell_type": "markdown",
   "metadata": {},
   "source": [
    "#### Step2. 이상치 확인 for Box plot"
   ]
  },
  {
   "cell_type": "code",
   "execution_count": 119,
   "metadata": {},
   "outputs": [
    {
     "data": {
      "text/html": [
       "<div>\n",
       "<style scoped>\n",
       "    .dataframe tbody tr th:only-of-type {\n",
       "        vertical-align: middle;\n",
       "    }\n",
       "\n",
       "    .dataframe tbody tr th {\n",
       "        vertical-align: top;\n",
       "    }\n",
       "\n",
       "    .dataframe thead th {\n",
       "        text-align: right;\n",
       "    }\n",
       "</style>\n",
       "<table border=\"1\" class=\"dataframe\">\n",
       "  <thead>\n",
       "    <tr style=\"text-align: right;\">\n",
       "      <th></th>\n",
       "      <th>노출(분)</th>\n",
       "      <th>판매단가</th>\n",
       "      <th>취급액</th>\n",
       "    </tr>\n",
       "  </thead>\n",
       "  <tbody>\n",
       "    <tr>\n",
       "      <td>1</td>\n",
       "      <td>20</td>\n",
       "      <td>39,900</td>\n",
       "      <td>2,099,000</td>\n",
       "    </tr>\n",
       "    <tr>\n",
       "      <td>2</td>\n",
       "      <td>NaN</td>\n",
       "      <td>39,900</td>\n",
       "      <td>4,371,000</td>\n",
       "    </tr>\n",
       "    <tr>\n",
       "      <td>3</td>\n",
       "      <td>20</td>\n",
       "      <td>39,900</td>\n",
       "      <td>3,262,000</td>\n",
       "    </tr>\n",
       "    <tr>\n",
       "      <td>4</td>\n",
       "      <td>NaN</td>\n",
       "      <td>39,900</td>\n",
       "      <td>6,955,000</td>\n",
       "    </tr>\n",
       "    <tr>\n",
       "      <td>5</td>\n",
       "      <td>20</td>\n",
       "      <td>39,900</td>\n",
       "      <td>6,672,000</td>\n",
       "    </tr>\n",
       "    <tr>\n",
       "      <td>...</td>\n",
       "      <td>...</td>\n",
       "      <td>...</td>\n",
       "      <td>...</td>\n",
       "    </tr>\n",
       "    <tr>\n",
       "      <td>38305</td>\n",
       "      <td>20</td>\n",
       "      <td>-</td>\n",
       "      <td>NaN</td>\n",
       "    </tr>\n",
       "    <tr>\n",
       "      <td>38306</td>\n",
       "      <td>20</td>\n",
       "      <td>-</td>\n",
       "      <td>NaN</td>\n",
       "    </tr>\n",
       "    <tr>\n",
       "      <td>38307</td>\n",
       "      <td>20</td>\n",
       "      <td>-</td>\n",
       "      <td>NaN</td>\n",
       "    </tr>\n",
       "    <tr>\n",
       "      <td>38308</td>\n",
       "      <td>20</td>\n",
       "      <td>-</td>\n",
       "      <td>NaN</td>\n",
       "    </tr>\n",
       "    <tr>\n",
       "      <td>38309</td>\n",
       "      <td>17</td>\n",
       "      <td>-</td>\n",
       "      <td>NaN</td>\n",
       "    </tr>\n",
       "  </tbody>\n",
       "</table>\n",
       "<p>38309 rows × 3 columns</p>\n",
       "</div>"
      ],
      "text/plain": [
       "      노출(분)      판매단가         취급액 \n",
       "1       20    39,900    2,099,000 \n",
       "2       NaN   39,900    4,371,000 \n",
       "3       20    39,900    3,262,000 \n",
       "4       NaN   39,900    6,955,000 \n",
       "5       20    39,900    6,672,000 \n",
       "...     ...       ...          ...\n",
       "38305   20         -           NaN\n",
       "38306   20         -           NaN\n",
       "38307   20         -           NaN\n",
       "38308   20         -           NaN\n",
       "38309   17         -           NaN\n",
       "\n",
       "[38309 rows x 3 columns]"
      ]
     },
     "execution_count": 119,
     "metadata": {},
     "output_type": "execute_result"
    }
   ],
   "source": [
    "data_performance.head()\n",
    "temp = data_performance[['노출(분)','판매단가',' 취급액 ']]\n",
    "temp"
   ]
  },
  {
   "cell_type": "code",
   "execution_count": 123,
   "metadata": {},
   "outputs": [
    {
     "data": {
      "text/plain": [
       "<Figure size 720x576 with 0 Axes>"
      ]
     },
     "metadata": {},
     "output_type": "display_data"
    },
    {
     "data": {
      "image/png": "[encoded data removed]",
      "text/plain": [
       "<Figure size 432x288 with 1 Axes>"
      ]
     },
     "metadata": {
      "needs_background": "light"
     },
     "output_type": "display_data"
    }
   ],
   "source": [
    "plt.figure(figsize=(10,8))\n",
    "fig, ax = plt.subplots()\n",
    "plt.boxplot(sales_list, sym=\"bo\")\n",
    "      \n",
    "plt.title('Box plot of sales')\n",
    "plt.xticks([0], ['sales'])\n",
    "\n",
    "plt.show()"
   ]
  },
  {
   "cell_type": "code",
   "execution_count": 39,
   "metadata": {},
   "outputs": [
    {
     "data": {
      "text/plain": [
       "True"
      ]
     },
     "execution_count": 39,
     "metadata": {},
     "output_type": "execute_result"
    }
   ],
   "source": [
    "str(data_performance['노출(분)'].iloc[1]) ==\"nan\""
   ]
  },
  {
   "cell_type": "code",
   "execution_count": 53,
   "metadata": {},
   "outputs": [
    {
     "name": "stdout",
     "output_type": "stream",
     "text": [
      "[판매단가] 전체대비 결측 비율:14.68% \n"
     ]
    }
   ],
   "source": [
    "missig_vaue_num = 0\n",
    "for num, i in enumerate(data_performance['방송일시']):\n",
    "\n",
    "    try:\n",
    "        i.lstrip().rstrip()\n",
    "    except:\n",
    "        out_num+=1\n",
    "print(f\"[방송일시] 전체대비 결측 비율:{round((out_num/len(data_performance['방송일시'])) *100,2)}% \")"
   ]
  },
  {
   "cell_type": "code",
   "execution_count": 65,
   "metadata": {},
   "outputs": [
    {
     "name": "stdout",
     "output_type": "stream",
     "text": [
      "[방송일시] 결측값 개수 확인:0.0%\n",
      "[노출(분)] 결측값 개수 확인:43.81%\n",
      "[마더코드] 결측값 개수 확인:0.0%\n",
      "[상품코드] 결측값 개수 확인:0.0%\n",
      "[상품명] 결측값 개수 확인:0.0%\n",
      "[상품군] 결측값 개수 확인:0.0%\n",
      "[판매단가] 결측값 개수 확인:0.0%\n",
      "[ 취급액 ] 결측값 개수 확인:2.45%\n"
     ]
    }
   ],
   "source": [
    "for i in data_performance.columns:\n",
    "    print(f\"[{i}] 결측값 개수 확인:{round(data_performance[i].isnull().sum()/len(data_performance)*100,2)}%\")\n"
   ]
  },
  {
   "cell_type": "code",
   "execution_count": 108,
   "metadata": {},
   "outputs": [
    {
     "name": "stdout",
     "output_type": "stream",
     "text": [
      "[취급액] 전체대비 이상치 비율:2.45% \n",
      "[취급액] 이상치 형태:{'nan'}\n"
     ]
    }
   ],
   "source": [
    "missing_value_num = 0\n",
    "missing_type = []\n",
    "for i in data_performance[' 취급액 ']:\n",
    "    i = str(i)\n",
    "    i = i.rstrip().lstrip().replace(\",\",\"\")\n",
    "    if i.isdigit() == True:\n",
    "        continue\n",
    "    elif i.isdigit() == False:\n",
    "        missing_value_num+=1 \n",
    "        missing_type.append(i)\n",
    "print(f\"[취급액] 전체대비 이상치 비율:{round((missing_value_num/len(data_performance[' 취급액 '])) *100,2)}% \")\n",
    "print(f\"[취급액] 이상치 형태:{set(missing_type)}\")"
   ]
  },
  {
   "cell_type": "code",
   "execution_count": 104,
   "metadata": {},
   "outputs": [
    {
     "data": {
      "text/plain": [
       "1         2,099,000 \n",
       "2         4,371,000 \n",
       "3         3,262,000 \n",
       "4         6,955,000 \n",
       "5         6,672,000 \n",
       "            ...     \n",
       "38305            NaN\n",
       "38306            NaN\n",
       "38307            NaN\n",
       "38308            NaN\n",
       "38309            NaN\n",
       "Name:  취급액 , Length: 38309, dtype: object"
      ]
     },
     "execution_count": 104,
     "metadata": {},
     "output_type": "execute_result"
    }
   ],
   "source": [
    "data_performance[' 취급액 ']"
   ]
  },
  {
   "cell_type": "code",
   "execution_count": null,
   "metadata": {},
   "outputs": [],
   "source": []
  }
 ],
 "metadata": {
  "kernelspec": {
   "display_name": "Python 3",
   "language": "python",
   "name": "python3"
  },
  "language_info": {
   "codemirror_mode": {
    "name": "ipython",
    "version": 3
   },
   "file_extension": ".py",
   "mimetype": "text/x-python",
   "name": "python",
   "nbconvert_exporter": "python",
   "pygments_lexer": "ipython3",
   "version": "3.7.4"
  }
 },
 "nbformat": 4,
 "nbformat_minor": 2
}
