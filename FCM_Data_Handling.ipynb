{
 "cells": [
  {
   "cell_type": "markdown",
   "metadata": {},
   "source": [
    "## 데이터 핸들링 "
   ]
  },
  {
   "cell_type": "code",
   "execution_count": 7,
   "metadata": {},
   "outputs": [],
   "source": [
    "import pandas as pd \n",
    "from pandas.plotting import scatter_matrix\n",
    "import random as randn"
   ]
  },
  {
   "cell_type": "markdown",
   "metadata": {},
   "source": [
    "#### 고유 값 생성"
   ]
  },
  {
   "cell_type": "code",
   "execution_count": 8,
   "metadata": {},
   "outputs": [],
   "source": [
    "def randn_generater(dataframe_length):\n",
    "    key_list = []\n",
    "    ran_num =  randn.random()\n",
    "    for i in range(dataframe_length):\n",
    "        while ran_num in key_list:\n",
    "            ran_num =  randn.random()\n",
    "        key_list.append(ran_num)\n",
    "    return(key_list)"
   ]
  },
  {
   "cell_type": "code",
   "execution_count": 9,
   "metadata": {},
   "outputs": [],
   "source": [
    "data = pd.read_csv(f\"C:/Users/ghkdn/Jupyter/ETC/fcm_effect.csv\")\n",
    "\n",
    "\n",
    "data = data[data['플랫폼'] == 'And'] #And, iOS\n",
    "data = data.reset_index()\n",
    "\n",
    "temp = randn_generater(len(data))\n",
    "data['key_val'] = temp\n",
    "\n",
    "open_average = data['오픈율'].mean()\n",
    "open_std = data['오픈율'].std()\n",
    "max_limit = open_average+open_std\n",
    "min_limit = open_average-open_std\n",
    "\n",
    "\n",
    "upCondition = [max_limit,open_average]\n",
    "downCondition = [open_average]\n"
   ]
  },
  {
   "cell_type": "code",
   "execution_count": 10,
   "metadata": {},
   "outputs": [],
   "source": [
    "# Up_filltering\n",
    "up_check_list = []\n",
    "donw_check_list = []\n",
    "for i in range(len(data)):\n",
    "    num =  data['오픈율'][i]\n",
    "    for j in upCondition:\n",
    "        if num >=j:\n",
    "            up_check_list.append(data['key_val'][i])\n",
    "\n",
    "# Down_filltering\n",
    "for i in range(len(data)):\n",
    "    num2 =  data['오픈율'][i] \n",
    "\n",
    "    for j in downCondition:\n",
    "        if num2 <=j:\n",
    "            donw_check_list.append(data['key_val'][i])\n",
    "            \n",
    "Up_check_file = data[data['key_val'].isin(up_check_list)]\n",
    "Up_check = Up_check_file[['일자','시간','요일','조건','내용','오픈율']]\n",
    "\n",
    "Down_check_file = data[data['key_val'].isin(donw_check_list)]\n",
    "Down_check = Down_check_file[['일자','시간','요일','조건','내용','오픈율']]\n"
   ]
  },
  {
   "cell_type": "code",
   "execution_count": null,
   "metadata": {},
   "outputs": [],
   "source": []
  }
 ],
 "metadata": {
  "kernelspec": {
   "display_name": "Python 3",
   "language": "python",
   "name": "python3"
  },
  "language_info": {
   "codemirror_mode": {
    "name": "ipython",
    "version": 3
   },
   "file_extension": ".py",
   "mimetype": "text/x-python",
   "name": "python",
   "nbconvert_exporter": "python",
   "pygments_lexer": "ipython3",
   "version": "3.7.4"
  }
 },
 "nbformat": 4,
 "nbformat_minor": 2
}
