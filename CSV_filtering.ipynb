{
 "cells": [
  {
   "cell_type": "markdown",
   "metadata": {},
   "source": [
    "## CMS 필터링 프로그램"
   ]
  },
  {
   "cell_type": "markdown",
   "metadata": {},
   "source": [
    "---------------\n"
   ]
  },
  {
   "cell_type": "markdown",
   "metadata": {},
   "source": [
    "### 1. 데이터 파일 불러오기 "
   ]
  },
  {
   "cell_type": "code",
   "execution_count": 1,
   "metadata": {},
   "outputs": [
    {
     "name": "stdout",
     "output_type": "stream",
     "text": [
      "파일 명을 입력해주세요.\n",
      "파일 경로를 제대로 설정해 주세요. [Errno 2] File b'C:/Users/ghkdn/Jupyter/ETC/.csv' does not exist: b'C:/Users/ghkdn/Jupyter/ETC/.csv'\n"
     ]
    },
    {
     "ename": "NameError",
     "evalue": "name 'data' is not defined",
     "output_type": "error",
     "traceback": [
      "\u001b[1;31m---------------------------------------------------------------------------\u001b[0m",
      "\u001b[1;31mNameError\u001b[0m                                 Traceback (most recent call last)",
      "\u001b[1;32m<ipython-input-1-3267353d4a3f>\u001b[0m in \u001b[0;36m<module>\u001b[1;34m\u001b[0m\n\u001b[0;32m      7\u001b[0m \u001b[1;32mexcept\u001b[0m \u001b[0mException\u001b[0m \u001b[1;32mas\u001b[0m \u001b[0mex\u001b[0m\u001b[1;33m:\u001b[0m\u001b[1;33m\u001b[0m\u001b[1;33m\u001b[0m\u001b[0m\n\u001b[0;32m      8\u001b[0m     \u001b[0mprint\u001b[0m\u001b[1;33m(\u001b[0m\u001b[1;34m\"파일 경로를 제대로 설정해 주세요.\"\u001b[0m\u001b[1;33m,\u001b[0m\u001b[0mex\u001b[0m\u001b[1;33m)\u001b[0m\u001b[1;33m\u001b[0m\u001b[1;33m\u001b[0m\u001b[0m\n\u001b[1;32m----> 9\u001b[1;33m \u001b[0mcolumn_list\u001b[0m\u001b[1;33m=\u001b[0m \u001b[0mdata\u001b[0m\u001b[1;33m.\u001b[0m\u001b[0mcolumns\u001b[0m\u001b[1;33m\u001b[0m\u001b[1;33m\u001b[0m\u001b[0m\n\u001b[0m",
      "\u001b[1;31mNameError\u001b[0m: name 'data' is not defined"
     ]
    }
   ],
   "source": [
    "import pandas as pd \n",
    "from pandas.plotting import scatter_matrix\n",
    "\n",
    "file_name = input(\"파일 명을 입력해주세요.\")\n",
    "try: \n",
    "    data = pd.read_csv(f\"C:/Users/ghkdn/Jupyter/ETC/{file_name}.csv\")\n",
    "except Exception as ex:\n",
    "    print(\"파일 경로를 제대로 설정해 주세요.\",ex)\n",
    "column_list= data.columns"
   ]
  },
  {
   "cell_type": "markdown",
   "metadata": {},
   "source": [
    "### 2. 열 지정"
   ]
  },
  {
   "cell_type": "code",
   "execution_count": null,
   "metadata": {},
   "outputs": [],
   "source": [
    "column_name_list = []\n",
    "print(\"불러온 파일을 열 리스트:\",column_list)\n",
    "while True:\n",
    "    \n",
    "    temp = input(\"추가할 열이 있나요? Y / N  \")\n",
    "    if temp == 'Y':d\n",
    "        column_name = input(\"컬럼 이름을 입력하세요\") \n",
    "        \n",
    "        if column_name in column_list:\n",
    "            column_name_list.append(column_name)\n",
    "            print(column_name_list)\n",
    "        else:\n",
    "            print(\"컬럼 이름을 제대로 입력해주세요.\")\n",
    "    elif temp == 'N':\n",
    "        break\n",
    "    else:   \n",
    "        print(\"INPUT ONLY YES OR NO!\")\n",
    "        continue\n",
    "\n",
    "print(\"추출된 파일입니다\")        \n",
    "select_data = data[column_name_list]\n",
    "select_data"
   ]
  },
  {
   "cell_type": "markdown",
   "metadata": {},
   "source": [
    "###  3. 열에서 누락된 값이 있다면, 해당 열을 제거합니다."
   ]
  },
  {
   "cell_type": "code",
   "execution_count": 10,
   "metadata": {
    "scrolled": true
   },
   "outputs": [
    {
     "name": "stdout",
     "output_type": "stream",
     "text": [
      "누락된 값을 체크하고 싶은 열의 이름을 입력하세요: 입금일시\n"
     ]
    },
    {
     "data": {
      "text/html": [
       "<div>\n",
       "<style scoped>\n",
       "    .dataframe tbody tr th:only-of-type {\n",
       "        vertical-align: middle;\n",
       "    }\n",
       "\n",
       "    .dataframe tbody tr th {\n",
       "        vertical-align: top;\n",
       "    }\n",
       "\n",
       "    .dataframe thead th {\n",
       "        text-align: right;\n",
       "    }\n",
       "</style>\n",
       "<table border=\"1\" class=\"dataframe\">\n",
       "  <thead>\n",
       "    <tr style=\"text-align: right;\">\n",
       "      <th></th>\n",
       "      <th>페이지모드</th>\n",
       "      <th>주문일</th>\n",
       "      <th>입금일시</th>\n",
       "      <th>사용쿠폰명</th>\n",
       "    </tr>\n",
       "  </thead>\n",
       "  <tbody>\n",
       "    <tr>\n",
       "      <td>0</td>\n",
       "      <td>모바일App</td>\n",
       "      <td>2020-02-03</td>\n",
       "      <td>2020-02-03 12:07:14 AM</td>\n",
       "      <td>라운즈 앱으로 촬영하기 10% 할인 쿠폰!</td>\n",
       "    </tr>\n",
       "    <tr>\n",
       "      <td>1</td>\n",
       "      <td>모바일App</td>\n",
       "      <td>2020-02-03</td>\n",
       "      <td>2020-02-03 12:13:46 AM</td>\n",
       "      <td>라운즈 앱으로 촬영하기 10% 할인 쿠폰!</td>\n",
       "    </tr>\n",
       "    <tr>\n",
       "      <td>2</td>\n",
       "      <td>모바일Web</td>\n",
       "      <td>2020-02-03</td>\n",
       "      <td>2020-02-03 12:44:49 AM</td>\n",
       "      <td>라운즈 앱으로 촬영하기 10% 할인 쿠폰!</td>\n",
       "    </tr>\n",
       "    <tr>\n",
       "      <td>3</td>\n",
       "      <td>모바일App</td>\n",
       "      <td>2020-02-03</td>\n",
       "      <td>2020-02-03 02:44:28 AM</td>\n",
       "      <td>라운즈 앱으로 촬영하기 10% 할인 쿠폰!</td>\n",
       "    </tr>\n",
       "    <tr>\n",
       "      <td>4</td>\n",
       "      <td>모바일App</td>\n",
       "      <td>2020-02-03</td>\n",
       "      <td>2020-02-03 07:25:59 AM</td>\n",
       "      <td>라운즈 앱으로 촬영하기 10% 할인 쿠폰!</td>\n",
       "    </tr>\n",
       "    <tr>\n",
       "      <td>...</td>\n",
       "      <td>...</td>\n",
       "      <td>...</td>\n",
       "      <td>...</td>\n",
       "      <td>...</td>\n",
       "    </tr>\n",
       "    <tr>\n",
       "      <td>1505</td>\n",
       "      <td>모바일App</td>\n",
       "      <td>2020-03-19</td>\n",
       "      <td>2020-03-19 09:10:21 PM</td>\n",
       "      <td>앱에서 구매 시 10% 회원 할인</td>\n",
       "    </tr>\n",
       "    <tr>\n",
       "      <td>1506</td>\n",
       "      <td>모바일App</td>\n",
       "      <td>2020-03-19</td>\n",
       "      <td>2020-03-20 12:51:06 PM</td>\n",
       "      <td>앱에서 구매 시 10% 회원 할인</td>\n",
       "    </tr>\n",
       "    <tr>\n",
       "      <td>1507</td>\n",
       "      <td>모바일App</td>\n",
       "      <td>2020-03-19</td>\n",
       "      <td>2020-03-20 12:39:03 PM</td>\n",
       "      <td>앱에서 구매 시 10% 회원 할인</td>\n",
       "    </tr>\n",
       "    <tr>\n",
       "      <td>1508</td>\n",
       "      <td>모바일App</td>\n",
       "      <td>2020-03-19</td>\n",
       "      <td>2020-03-19 11:07:26 PM</td>\n",
       "      <td>앱에서 구매 시 10% 회원 할인</td>\n",
       "    </tr>\n",
       "    <tr>\n",
       "      <td>1509</td>\n",
       "      <td>모바일App</td>\n",
       "      <td>2020-03-19</td>\n",
       "      <td>2020-03-20 12:23:56 AM</td>\n",
       "      <td>앱에서 구매 시 10% 회원 할인</td>\n",
       "    </tr>\n",
       "  </tbody>\n",
       "</table>\n",
       "<p>1510 rows × 4 columns</p>\n",
       "</div>"
      ],
      "text/plain": [
       "       페이지모드         주문일                    입금일시                    사용쿠폰명\n",
       "0     모바일App  2020-02-03  2020-02-03 12:07:14 AM  라운즈 앱으로 촬영하기 10% 할인 쿠폰!\n",
       "1     모바일App  2020-02-03  2020-02-03 12:13:46 AM  라운즈 앱으로 촬영하기 10% 할인 쿠폰!\n",
       "2     모바일Web  2020-02-03  2020-02-03 12:44:49 AM  라운즈 앱으로 촬영하기 10% 할인 쿠폰!\n",
       "3     모바일App  2020-02-03  2020-02-03 02:44:28 AM  라운즈 앱으로 촬영하기 10% 할인 쿠폰!\n",
       "4     모바일App  2020-02-03  2020-02-03 07:25:59 AM  라운즈 앱으로 촬영하기 10% 할인 쿠폰!\n",
       "...      ...         ...                     ...                      ...\n",
       "1505  모바일App  2020-03-19  2020-03-19 09:10:21 PM       앱에서 구매 시 10% 회원 할인\n",
       "1506  모바일App  2020-03-19  2020-03-20 12:51:06 PM       앱에서 구매 시 10% 회원 할인\n",
       "1507  모바일App  2020-03-19  2020-03-20 12:39:03 PM       앱에서 구매 시 10% 회원 할인\n",
       "1508  모바일App  2020-03-19  2020-03-19 11:07:26 PM       앱에서 구매 시 10% 회원 할인\n",
       "1509  모바일App  2020-03-19  2020-03-20 12:23:56 AM       앱에서 구매 시 10% 회원 할인\n",
       "\n",
       "[1510 rows x 4 columns]"
      ]
     },
     "execution_count": 10,
     "metadata": {},
     "output_type": "execute_result"
    }
   ],
   "source": [
    "default_column = str(input(\"누락된 값을 체크하고 싶은 열의 이름을 입력하세요: \"))\n",
    "select_data[default_column].dropna(axis = 0)\n",
    "select_data"
   ]
  },
  {
   "cell_type": "markdown",
   "metadata": {},
   "source": [
    "### 4. 기타 데이터 묶기"
   ]
  },
  {
   "cell_type": "code",
   "execution_count": 11,
   "metadata": {},
   "outputs": [
    {
     "name": "stdout",
     "output_type": "stream",
     "text": [
      "현재 열 리스트: Index(['페이지모드', '주문일', '입금일시', '사용쿠폰명'], dtype='object')\n",
      "변경하고 싶은 열 이름사용쿠폰명\n",
      "데이터 종류: ['라운즈 앱으로 촬영하기 10% 할인 쿠폰!' 'BJ클래식 안경 15% 추가할인' '블리츠 선글라스 10% 쿠폰'\n",
      " '라운즈 회원 생일 축하 15% 할인 쿠폰!' '스탠시라마스 20% 추가할인 쿠폰' '2020 임직원 30% 할인 쿠폰'\n",
      " '니시데카즈오 20% 추가할인 쿠폰' '스틸러 전제품 10% 추가 할인 쿠폰' nan\n",
      " '베리스 안경 15% 추가할인 쿠폰 (10만원 이상 구매시)' '59히스테릭 안경 20% 추가할인 쿠폰'\n",
      " '라운즈 VVIP 스페셜 쿠폰' '라운즈 회원전용 10% 쿠폰' '뮤지크 전제품 10% 추가할인 쿠폰'\n",
      " '★타르트옵티컬 & 파라노이드 앵콜 25% 특별 할인쿠폰★' '베디베로 안경 15% 쿠폰' '올리버골드스미스 20% 추가할인 쿠폰'\n",
      " 'VIP 쿠폰 20% 특별 할인쿠폰' '라운즈 회원전용 30% 쿠폰' '라운즈 회원전용 15% 할인 쿠폰'\n",
      " '옵티컬W 안경 15% 추가할인 쿠폰' '함부르크디자인 20% 추가할인' '2020년 기념 20%할인쿠폰!'\n",
      " '2020 신상 톰포트 10% 할인쿠폰 ' '★타르트옵티컬 & 파라노이드 25% 특별 할인쿠폰★' '페이션 안경 15% 할인'\n",
      " '생일쿠폰 개별 15%' '앱에서 구매 시 10% 회원 할인' '타르트옵티컬 안경 20% 추가할인(아넬헤리티지 품목 제외)'\n",
      " '2020 신상 톰포드 10% 할인쿠폰 ' '슈퍼선글라스 20% 추가할인 쿠폰' '★김혜수 톰포드 선글라스 특별 할인 쿠폰★'\n",
      " '15% ' '10% 개별 발급' '베리스 선글라스 15% 추가할인 (10만원 이상 구매시)' '라운즈 회원전용 15% 쿠폰'] \n",
      " 총 36 개\n"
     ]
    }
   ],
   "source": [
    "print(\"현재 열 리스트:\",select_data.columns)\n",
    "col_name= input(\"변경하고 싶은 열 이름\")\n",
    "col_data = select_data[col_name]\n",
    "print(\"데이터 종류:\", col_data.unique() ,\"\\n 총\", len( col_data.unique()),\"개\" )"
   ]
  },
  {
   "cell_type": "code",
   "execution_count": 12,
   "metadata": {},
   "outputs": [
    {
     "name": "stdout",
     "output_type": "stream",
     "text": [
      "명시되어야할 데이터가 있나요? Y / N  Y\n",
      "데이터 이름을 입력하세요라운즈 앱으로 촬영하기 10% 할인 쿠폰!\n",
      "['라운즈 앱으로 촬영하기 10% 할인 쿠폰!']\n",
      "명시되어야할 데이터가 있나요? Y / N  N\n",
      "현재 사용쿠폰명에서 남기고 싶은 데이터:['라운즈 앱으로 촬영하기 10% 할인 쿠폰!']\n",
      "@ 나머지 데이터는 '기타 처리 진행'합니다.'\n"
     ]
    },
    {
     "data": {
      "text/html": [
       "<div>\n",
       "<style scoped>\n",
       "    .dataframe tbody tr th:only-of-type {\n",
       "        vertical-align: middle;\n",
       "    }\n",
       "\n",
       "    .dataframe tbody tr th {\n",
       "        vertical-align: top;\n",
       "    }\n",
       "\n",
       "    .dataframe thead th {\n",
       "        text-align: right;\n",
       "    }\n",
       "</style>\n",
       "<table border=\"1\" class=\"dataframe\">\n",
       "  <thead>\n",
       "    <tr style=\"text-align: right;\">\n",
       "      <th></th>\n",
       "      <th>페이지모드</th>\n",
       "      <th>주문일</th>\n",
       "      <th>입금일시</th>\n",
       "      <th>사용쿠폰명</th>\n",
       "    </tr>\n",
       "  </thead>\n",
       "  <tbody>\n",
       "    <tr>\n",
       "      <td>0</td>\n",
       "      <td>모바일App</td>\n",
       "      <td>2020-02-03</td>\n",
       "      <td>2020-02-03 12:07:14 AM</td>\n",
       "      <td>라운즈 앱으로 촬영하기 10% 할인 쿠폰!</td>\n",
       "    </tr>\n",
       "    <tr>\n",
       "      <td>1</td>\n",
       "      <td>모바일App</td>\n",
       "      <td>2020-02-03</td>\n",
       "      <td>2020-02-03 12:13:46 AM</td>\n",
       "      <td>라운즈 앱으로 촬영하기 10% 할인 쿠폰!</td>\n",
       "    </tr>\n",
       "    <tr>\n",
       "      <td>2</td>\n",
       "      <td>모바일Web</td>\n",
       "      <td>2020-02-03</td>\n",
       "      <td>2020-02-03 12:44:49 AM</td>\n",
       "      <td>라운즈 앱으로 촬영하기 10% 할인 쿠폰!</td>\n",
       "    </tr>\n",
       "    <tr>\n",
       "      <td>3</td>\n",
       "      <td>모바일App</td>\n",
       "      <td>2020-02-03</td>\n",
       "      <td>2020-02-03 02:44:28 AM</td>\n",
       "      <td>라운즈 앱으로 촬영하기 10% 할인 쿠폰!</td>\n",
       "    </tr>\n",
       "    <tr>\n",
       "      <td>4</td>\n",
       "      <td>모바일App</td>\n",
       "      <td>2020-02-03</td>\n",
       "      <td>2020-02-03 07:25:59 AM</td>\n",
       "      <td>라운즈 앱으로 촬영하기 10% 할인 쿠폰!</td>\n",
       "    </tr>\n",
       "    <tr>\n",
       "      <td>...</td>\n",
       "      <td>...</td>\n",
       "      <td>...</td>\n",
       "      <td>...</td>\n",
       "      <td>...</td>\n",
       "    </tr>\n",
       "    <tr>\n",
       "      <td>1505</td>\n",
       "      <td>모바일App</td>\n",
       "      <td>2020-03-19</td>\n",
       "      <td>2020-03-19 09:10:21 PM</td>\n",
       "      <td>기타</td>\n",
       "    </tr>\n",
       "    <tr>\n",
       "      <td>1506</td>\n",
       "      <td>모바일App</td>\n",
       "      <td>2020-03-19</td>\n",
       "      <td>2020-03-20 12:51:06 PM</td>\n",
       "      <td>기타</td>\n",
       "    </tr>\n",
       "    <tr>\n",
       "      <td>1507</td>\n",
       "      <td>모바일App</td>\n",
       "      <td>2020-03-19</td>\n",
       "      <td>2020-03-20 12:39:03 PM</td>\n",
       "      <td>기타</td>\n",
       "    </tr>\n",
       "    <tr>\n",
       "      <td>1508</td>\n",
       "      <td>모바일App</td>\n",
       "      <td>2020-03-19</td>\n",
       "      <td>2020-03-19 11:07:26 PM</td>\n",
       "      <td>기타</td>\n",
       "    </tr>\n",
       "    <tr>\n",
       "      <td>1509</td>\n",
       "      <td>모바일App</td>\n",
       "      <td>2020-03-19</td>\n",
       "      <td>2020-03-20 12:23:56 AM</td>\n",
       "      <td>기타</td>\n",
       "    </tr>\n",
       "  </tbody>\n",
       "</table>\n",
       "<p>1510 rows × 4 columns</p>\n",
       "</div>"
      ],
      "text/plain": [
       "       페이지모드         주문일                    입금일시                    사용쿠폰명\n",
       "0     모바일App  2020-02-03  2020-02-03 12:07:14 AM  라운즈 앱으로 촬영하기 10% 할인 쿠폰!\n",
       "1     모바일App  2020-02-03  2020-02-03 12:13:46 AM  라운즈 앱으로 촬영하기 10% 할인 쿠폰!\n",
       "2     모바일Web  2020-02-03  2020-02-03 12:44:49 AM  라운즈 앱으로 촬영하기 10% 할인 쿠폰!\n",
       "3     모바일App  2020-02-03  2020-02-03 02:44:28 AM  라운즈 앱으로 촬영하기 10% 할인 쿠폰!\n",
       "4     모바일App  2020-02-03  2020-02-03 07:25:59 AM  라운즈 앱으로 촬영하기 10% 할인 쿠폰!\n",
       "...      ...         ...                     ...                      ...\n",
       "1505  모바일App  2020-03-19  2020-03-19 09:10:21 PM                       기타\n",
       "1506  모바일App  2020-03-19  2020-03-20 12:51:06 PM                       기타\n",
       "1507  모바일App  2020-03-19  2020-03-20 12:39:03 PM                       기타\n",
       "1508  모바일App  2020-03-19  2020-03-19 11:07:26 PM                       기타\n",
       "1509  모바일App  2020-03-19  2020-03-20 12:23:56 AM                       기타\n",
       "\n",
       "[1510 rows x 4 columns]"
      ]
     },
     "execution_count": 12,
     "metadata": {},
     "output_type": "execute_result"
    }
   ],
   "source": [
    "# 입력 열 빼고 나머지 기타 처리\n",
    "data_name_list = []\n",
    "while True:\n",
    "    \n",
    "    temp = input(\"명시되어야할 데이터가 있나요? Y / N  \")\n",
    "    if temp == 'Y':\n",
    "        data_name = input(\"데이터 이름을 입력하세요\") \n",
    "        \n",
    "        if data_name in list(col_data.unique()):\n",
    "            data_name_list.append(data_name)\n",
    "            print(data_name_list)\n",
    "        else:\n",
    "            print(\"데이터 이름을 제대로 입력해주세요.\")\n",
    "    elif temp == 'N':\n",
    "        break\n",
    "    else:   \n",
    "        print(\"INPUT ONLY YES OR NO!\")\n",
    "        continue\n",
    "        \n",
    "print(\"현재 {}에서 남기고 싶은 데이터:{}\".format(col_name,data_name_list))\n",
    "print(\"@ 나머지 데이터는 '기타 처리 진행'합니다.'\")\n",
    "temp_list = select_data[col_name]\n",
    "num = 0\n",
    "for i in temp_list:\n",
    "    if not (i in data_name_list) :\n",
    "        select_data[col_name][num] ='기타'\n",
    "    num+=1\n",
    "select_data"
   ]
  },
  {
   "cell_type": "markdown",
   "metadata": {},
   "source": [
    "### 5. 조건별 사용자 합계 "
   ]
  },
  {
   "cell_type": "code",
   "execution_count": 13,
   "metadata": {
    "scrolled": false
   },
   "outputs": [
    {
     "name": "stdout",
     "output_type": "stream",
     "text": [
      "열 종류: Index(['페이지모드', '주문일', '입금일시', '사용쿠폰명'], dtype='object')\n",
      "지정할 열이 있나요? Y / N  Y\n",
      "지정할 열 이름을 입력하세요페이지모드\n",
      "['페이지모드']\n",
      "지정할 열이 있나요? Y / N  Y\n",
      "지정할 열 이름을 입력하세요주문일\n",
      "['페이지모드', '주문일']\n",
      "지정할 열이 있나요? Y / N  Y\n",
      "지정할 열 이름을 입력하세요사용쿠폰명\n",
      "['페이지모드', '주문일', '사용쿠폰명']\n",
      "지정할 열이 있나요? Y / N  N\n",
      "기준 열: Index(['페이지모드', '주문일', '입금일시', '사용쿠폰명'], dtype='object')\n"
     ]
    },
    {
     "name": "stderr",
     "output_type": "stream",
     "text": [
      "C:\\Users\\ghkdn\\AppData\\Local\\Continuum\\anaconda3\\lib\\site-packages\\ipykernel_launcher.py:27: SettingWithCopyWarning: \n",
      "A value is trying to be set on a copy of a slice from a DataFrame.\n",
      "Try using .loc[row_indexer,col_indexer] = value instead\n",
      "\n",
      "See the caveats in the documentation: http://pandas.pydata.org/pandas-docs/stable/user_guide/indexing.html#returning-a-view-versus-a-copy\n"
     ]
    },
    {
     "data": {
      "text/html": [
       "<div>\n",
       "<style scoped>\n",
       "    .dataframe tbody tr th:only-of-type {\n",
       "        vertical-align: middle;\n",
       "    }\n",
       "\n",
       "    .dataframe tbody tr th {\n",
       "        vertical-align: top;\n",
       "    }\n",
       "\n",
       "    .dataframe thead th {\n",
       "        text-align: right;\n",
       "    }\n",
       "</style>\n",
       "<table border=\"1\" class=\"dataframe\">\n",
       "  <thead>\n",
       "    <tr style=\"text-align: right;\">\n",
       "      <th></th>\n",
       "      <th></th>\n",
       "      <th></th>\n",
       "      <th>사용자 수</th>\n",
       "    </tr>\n",
       "    <tr>\n",
       "      <th>페이지모드</th>\n",
       "      <th>주문일</th>\n",
       "      <th>사용쿠폰명</th>\n",
       "      <th></th>\n",
       "    </tr>\n",
       "  </thead>\n",
       "  <tbody>\n",
       "    <tr>\n",
       "      <td rowspan=\"5\" valign=\"top\">PC화면</td>\n",
       "      <td>2020-02-03</td>\n",
       "      <td>라운즈 앱으로 촬영하기 10% 할인 쿠폰!</td>\n",
       "      <td>5</td>\n",
       "    </tr>\n",
       "    <tr>\n",
       "      <td rowspan=\"2\" valign=\"top\">2020-02-04</td>\n",
       "      <td>기타</td>\n",
       "      <td>2</td>\n",
       "    </tr>\n",
       "    <tr>\n",
       "      <td>라운즈 앱으로 촬영하기 10% 할인 쿠폰!</td>\n",
       "      <td>1</td>\n",
       "    </tr>\n",
       "    <tr>\n",
       "      <td rowspan=\"2\" valign=\"top\">2020-02-05</td>\n",
       "      <td>기타</td>\n",
       "      <td>1</td>\n",
       "    </tr>\n",
       "    <tr>\n",
       "      <td>라운즈 앱으로 촬영하기 10% 할인 쿠폰!</td>\n",
       "      <td>2</td>\n",
       "    </tr>\n",
       "    <tr>\n",
       "      <td>...</td>\n",
       "      <td>...</td>\n",
       "      <td>...</td>\n",
       "      <td>...</td>\n",
       "    </tr>\n",
       "    <tr>\n",
       "      <td rowspan=\"5\" valign=\"top\">모바일Web</td>\n",
       "      <td>2020-03-15</td>\n",
       "      <td>기타</td>\n",
       "      <td>2</td>\n",
       "    </tr>\n",
       "    <tr>\n",
       "      <td>2020-03-16</td>\n",
       "      <td>기타</td>\n",
       "      <td>1</td>\n",
       "    </tr>\n",
       "    <tr>\n",
       "      <td>2020-03-17</td>\n",
       "      <td>기타</td>\n",
       "      <td>2</td>\n",
       "    </tr>\n",
       "    <tr>\n",
       "      <td>2020-03-18</td>\n",
       "      <td>기타</td>\n",
       "      <td>2</td>\n",
       "    </tr>\n",
       "    <tr>\n",
       "      <td>2020-03-19</td>\n",
       "      <td>기타</td>\n",
       "      <td>2</td>\n",
       "    </tr>\n",
       "  </tbody>\n",
       "</table>\n",
       "<p>168 rows × 1 columns</p>\n",
       "</div>"
      ],
      "text/plain": [
       "                                           사용자 수 \n",
       "페이지모드  주문일        사용쿠폰명                          \n",
       "PC화면   2020-02-03 라운즈 앱으로 촬영하기 10% 할인 쿠폰!       5\n",
       "       2020-02-04 기타                            2\n",
       "                  라운즈 앱으로 촬영하기 10% 할인 쿠폰!       1\n",
       "       2020-02-05 기타                            1\n",
       "                  라운즈 앱으로 촬영하기 10% 할인 쿠폰!       2\n",
       "...                                           ...\n",
       "모바일Web 2020-03-15 기타                            2\n",
       "       2020-03-16 기타                            1\n",
       "       2020-03-17 기타                            2\n",
       "       2020-03-18 기타                            2\n",
       "       2020-03-19 기타                            2\n",
       "\n",
       "[168 rows x 1 columns]"
      ]
     },
     "execution_count": 13,
     "metadata": {},
     "output_type": "execute_result"
    }
   ],
   "source": [
    "# 지정된 열에서 조건이 같은 사용자 수 \n",
    "# ex.안드로이드 기기 + 2월 3일 => 안드로이드 기기를 2월 3일에 사용한 사용자 수 \n",
    "\n",
    "col_list2 = select_data.columns\n",
    "col_temp_list2 = []\n",
    "\n",
    "print(\"열 종류:\",col_list2)\n",
    "\n",
    "\n",
    "while True:\n",
    "    \n",
    "    temp = input(\"지정할 열이 있나요? Y / N  \")\n",
    "    if temp == 'Y':\n",
    "        col_name2 = input(\"지정할 열 이름을 입력하세요\") \n",
    "        \n",
    "        if col_name2 in col_list2:\n",
    "            col_temp_list2.append(col_name2)\n",
    "            print(col_temp_list2)\n",
    "        else:\n",
    "            print(\"열 이름을 제대로 입력해주세요.\")\n",
    "    elif temp == 'N':\n",
    "        break\n",
    "    else:   \n",
    "        print(\"INPUT ONLY YES OR NO!\")\n",
    "        continue\n",
    "print(\"기준 열:\",col_list2)\n",
    "select_data['사용자 수 '] = 1 # 합계 연산을 위한 임의의 카운트\n",
    "select_data = select_data.groupby(col_temp_list2).sum()\n",
    "select_data"
   ]
  },
  {
   "cell_type": "markdown",
   "metadata": {},
   "source": [
    "### etc) CSV 파일 추출하기"
   ]
  },
  {
   "cell_type": "code",
   "execution_count": 14,
   "metadata": {},
   "outputs": [
    {
     "name": "stdout",
     "output_type": "stream",
     "text": [
      "csv 파일 이름을 입력하세요.SUMMARY\n"
     ]
    }
   ],
   "source": [
    "csv_file = input(\"csv 파일 이름을 입력하세요.\")\n",
    "select_data.to_csv(csv_file+\".csv\")"
   ]
  },
  {
   "cell_type": "code",
   "execution_count": null,
   "metadata": {},
   "outputs": [],
   "source": []
  }
 ],
 "metadata": {
  "kernelspec": {
   "display_name": "Python 3",
   "language": "python",
   "name": "python3"
  },
  "language_info": {
   "codemirror_mode": {
    "name": "ipython",
    "version": 3
   },
   "file_extension": ".py",
   "mimetype": "text/x-python",
   "name": "python",
   "nbconvert_exporter": "python",
   "pygments_lexer": "ipython3",
   "version": "3.7.4"
  }
 },
 "nbformat": 4,
 "nbformat_minor": 2
}
