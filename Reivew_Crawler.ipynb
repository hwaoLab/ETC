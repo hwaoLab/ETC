{
 "cells": [
  {
   "cell_type": "code",
   "execution_count": null,
   "metadata": {},
   "outputs": [],
   "source": [
    "import requests\n",
    "from bs4 import BeautifulSoup as BS\n",
    "from selenium import webdriver\n",
    "import re\n",
    "\n",
    "url = 'https://play.google.com/store/apps/details?id=com.estsoft.pawever&showAllReviews=true' # 입력창 \n",
    "\n",
    "path = 'C:/chromedriver_win32/chromedriver.exe'\n",
    "driver = webdriver.Chrome(path)\n",
    "driver.get('https://play.google.com/store/apps/details?id=com.estsoft.pawever&showAllReviews=true')\n",
    "driver.implicitly_wait(3) # 3초 기다림\n",
    "\n",
    "html = driver.page_source\n",
    "#driver.quit() #웹화면 들어간 후, 3초뒤 나가기\n",
    "\n",
    "soup = BS(html,'lxml') # parser, lxml: 'parsing'의 종류 from https://brownbears.tistory.com/414\n",
    "div_reviews = soup.find_all(\"div\", {\"class\":\"d15Mdf bAhLNe\"})\n",
    "# https://saintbeller96.tistory.com/10?category=751441 : review_crawling  "
   ]
  },
  {
   "cell_type": "code",
   "execution_count": null,
   "metadata": {},
   "outputs": [],
   "source": [
    "reviews = [] \n",
    "\n",
    "for div in div_reviews:\n",
    "    grade = len(div.find_all('div',{'class' : 'vQHuPe bUWb7c'}))\n",
    "    date_text = div.find('span',{\"class\":\"p2TkOb\"}).get_text()\n",
    "    t = re.findall(r\"\\d*\\.\\d+|\\d+\",date_text) # re : regex 정규식 표현\n",
    "    print(t)\n",
    "    date = '{0}-{1}-{2}'.format(t[0],t[1],t[2])\n",
    "    good = div.find('div',{\"class\":\"jUL89d y92BAb\"}).get_text()\n",
    "    content = div.find('span',{'jsname':'bN97Pc'}).get_text()\n",
    "    print(content)\n",
    "    #content = re.sub('[^가-힝0-9a-zA-Z_!?@#%^&-=:;,\\\"\\'<>\\\\s]','',content)\n",
    "    #content = content.replace('<span jsname=\"bN97Pc\">','')\n",
    "    content.encode(\"utf-8\")\n",
    "    reviews.append((date,grade,good,content))"
   ]
  },
  {
   "cell_type": "code",
   "execution_count": null,
   "metadata": {},
   "outputs": [],
   "source": [
    "reviews[1]"
   ]
  },
  {
   "cell_type": "code",
   "execution_count": null,
   "metadata": {},
   "outputs": [],
   "source": [
    "import csv\n",
    "with open(\"0224_review.csv\",'wt',encoding='utf-8',newline='') as file:\n",
    "        csvWriter = csv.writer(file)\n",
    "        csvWriter.writerow([\"작성일\",\"평점\",\"공감수\",\"내용\"])\n",
    "        for rev in reviews:\n",
    "            csvWriter.writerow(rev)"
   ]
  },
  {
   "cell_type": "code",
   "execution_count": null,
   "metadata": {},
   "outputs": [],
   "source": []
  },
  {
   "cell_type": "code",
   "execution_count": null,
   "metadata": {},
   "outputs": [],
   "source": []
  },
  {
   "cell_type": "code",
   "execution_count": null,
   "metadata": {},
   "outputs": [],
   "source": []
  }
 ],
 "metadata": {
  "kernelspec": {
   "display_name": "Python 3",
   "language": "python",
   "name": "python3"
  },
  "language_info": {
   "codemirror_mode": {
    "name": "ipython",
    "version": 3
   },
   "file_extension": ".py",
   "mimetype": "text/x-python",
   "name": "python",
   "nbconvert_exporter": "python",
   "pygments_lexer": "ipython3",
   "version": "3.7.3"
  }
 },
 "nbformat": 4,
 "nbformat_minor": 2
}
