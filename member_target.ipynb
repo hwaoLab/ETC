{
 "cells": [
  {
   "cell_type": "markdown",
   "metadata": {},
   "source": [
    "#### 회원 가입자 나이 정보 분류 "
   ]
  },
  {
   "cell_type": "code",
   "execution_count": 1,
   "metadata": {},
   "outputs": [],
   "source": [
    "# 고유값 부여 \n",
    "def randn_generater(dataframe_length):\n",
    "    key_list = []\n",
    "    ran_num =  randn.random()\n",
    "    for i in range(dataframe_length):\n",
    "        while ran_num in key_list:\n",
    "            ran_num =  randn.random()\n",
    "        key_list.append(ran_num)\n",
    "    return(key_list)"
   ]
  },
  {
   "cell_type": "markdown",
   "metadata": {},
   "source": [
    "##### 1. 전체 회원 정보 "
   ]
  },
  {
   "cell_type": "code",
   "execution_count": 7,
   "metadata": {},
   "outputs": [
    {
     "name": "stdout",
     "output_type": "stream",
     "text": [
      "필터 전: 12168\n",
      "필터 후: 12139\n"
     ]
    }
   ],
   "source": [
    "import pandas as pd \n",
    "origin_data = pd.read_csv(\"member_list.csv\")#, encoding='utf-16') \n",
    "print(\"필터 전:\",len(origin_data))\n",
    "definedData = []\n",
    "outlierData = []\n",
    "for i in range(len(origin_data)):\n",
    "    temp_age = origin_data['나이'][i]\n",
    "    temp_id = origin_data['아이디'][i]\n",
    "    if temp_age <= 100 and temp_age >=0:\n",
    "        definedData.append(temp_id)\n",
    "    else:\n",
    "        outlierData.append(temp_id)\n",
    "data = origin_data[origin_data['아이디'].isin(definedData)]\n",
    "print(\"필터 후:\",len(data))\n",
    "total_num = len(data)\n",
    "sex_man =  data[data['성별'] == '남']\n",
    "sex_woman = data[data['성별'] == '여']\n",
    "enter_mean = data['접속횟수'].mean()\n",
    "#data.to_csv(\"data_sample.csv\")\n"
   ]
  },
  {
   "cell_type": "code",
   "execution_count": 15,
   "metadata": {},
   "outputs": [
    {
     "data": {
      "text/plain": [
       "515"
      ]
     },
     "execution_count": 15,
     "metadata": {},
     "output_type": "execute_result"
    }
   ],
   "source": [
    "check = data['성별'].isnull()\n",
    "check_file = [ i for i in check if i == True]\n",
    "check_file\n",
    "len(check_file)"
   ]
  },
  {
   "cell_type": "markdown",
   "metadata": {},
   "source": [
    "##### OUTLIER "
   ]
  },
  {
   "cell_type": "code",
   "execution_count": 3,
   "metadata": {},
   "outputs": [
    {
     "data": {
      "text/plain": [
       "2"
      ]
     },
     "execution_count": 3,
     "metadata": {},
     "output_type": "execute_result"
    }
   ],
   "source": [
    "outlier_data = origin_data[origin_data['아이디'].isin(outlierData)]\n",
    "check = outlier_data['나이'].isnull()\n",
    "check_file = [ i for i in check if i == True]\n",
    "len(check_file)"
   ]
  },
  {
   "cell_type": "code",
   "execution_count": 4,
   "metadata": {},
   "outputs": [
    {
     "name": "stdout",
     "output_type": "stream",
     "text": [
      "전체 회원가입자 수: 12139\n",
      "남자 비율: 49.59222341214268%\n",
      "여자 비율: 46.16525249196804%\n",
      "접속횟수 평균: 6.934426229508197\n",
      "평균 나이: 37.80121921080814\n",
      "남성 나이 37.74352159468439\n",
      "여성 나이 38.03925767309065\n"
     ]
    }
   ],
   "source": [
    "print(\"전체 회원가입자 수:\", total_num)\n",
    "print(\"남자 비율:\", str(len(sex_man)/total_num * 100) +\"%\" )\n",
    "print(\"여자 비율:\", str(len(sex_woman)/total_num * 100) + \"%\" )\n",
    "print(\"접속횟수 평균:\", enter_mean)\n",
    "print(\"평균 나이:\", data['나이'].mean())\n",
    "print(\"남성 나이\", sex_man['나이'].mean())\n",
    "print(\"여성 나이\", sex_woman['나이'].mean())"
   ]
  },
  {
   "cell_type": "markdown",
   "metadata": {},
   "source": [
    "##### 2. 주문 1번한 회원 정보 "
   ]
  },
  {
   "cell_type": "code",
   "execution_count": 5,
   "metadata": {},
   "outputs": [],
   "source": [
    "# 주문자 1번 정보  \n",
    "ordered_Data = data[data['주문횟수'] == 1 ] # 주문 경험 있는 으로 바꿀 경우, True 값으로 조건 설정\n",
    "\n",
    "#ordered_data = ordered_Data[ordered_Data['아이디'].isin(definedData)]\n",
    "ordered_total_num = len(ordered_Data)\n",
    "ordered_sex_man =  ordered_Data[ordered_Data['성별'] == '남']\n",
    "ordered_sex_woman = ordered_Data[ordered_Data['성별'] == '여']\n",
    "ordered_enter_mean = ordered_Data['접속횟수'].mean()"
   ]
  },
  {
   "cell_type": "code",
   "execution_count": 7,
   "metadata": {},
   "outputs": [
    {
     "name": "stdout",
     "output_type": "stream",
     "text": [
      "주문 1번 회원 수: 15320\n",
      "전체 회원 중 주문 1번 회원 비율: 39.81702879717226%\n",
      "남자 비율: 33.407310704960835%\n",
      "여자 비율: 31.729765013054827%\n",
      "접속횟수 평균: 8.19046997389034\n",
      "평균 나이: 38.177872062663184\n",
      "남성 나이 38.103946854239936\n",
      "여성 나이 38.340053486936846\n"
     ]
    }
   ],
   "source": [
    "print(\"주문 1번 회원 수:\", ordered_total_num)\n",
    "print(\"전체 회원 중 주문 1번 회원 비율:\", str(ordered_total_num/total_num * 100)+\"%\")\n",
    "print(\"남자 비율:\", str(len(ordered_sex_man)/ordered_total_num * 100) +\"%\" )\n",
    "print(\"여자 비율:\", str(len(ordered_sex_woman)/ordered_total_num * 100) + \"%\" )\n",
    "print(\"접속횟수 평균:\", ordered_enter_mean)\n",
    "print(\"평균 나이:\", ordered_Data['나이'].mean())\n",
    "print(\"남성 나이\", ordered_sex_man['나이'].mean())\n",
    "print(\"여성 나이\", ordered_sex_woman['나이'].mean())\n"
   ]
  },
  {
   "cell_type": "markdown",
   "metadata": {},
   "source": [
    "#####  3. 주문 2번 이상한 회원 수 "
   ]
  },
  {
   "cell_type": "code",
   "execution_count": 8,
   "metadata": {},
   "outputs": [],
   "source": [
    "# 주문자 2번 이상정보  \n",
    "ordered_Data2 = data[data['주문횟수'] >= 2 ]\n",
    "\n",
    "ordered_total_num2 = len(ordered_Data2)\n",
    "ordered_sex_man2 =  ordered_Data2[ordered_Data2['성별'] == '남']\n",
    "ordered_sex_woman2 = ordered_Data2[ordered_Data2['성별'] == '여']\n",
    "ordered_enter_mean2 = ordered_Data2['접속횟수'].mean()"
   ]
  },
  {
   "cell_type": "code",
   "execution_count": 9,
   "metadata": {},
   "outputs": [
    {
     "name": "stdout",
     "output_type": "stream",
     "text": [
      "주문 2번 이상 회원가입자 수: 1959\n",
      "전체 대비 주문 2번 이상한 회원 비율: 5.0914856014138685%\n",
      "남자 비율: 31.904032669729453%\n",
      "여자 비율: 27.054619703930577%\n",
      "접속횟수 평균: 33.61510974987238\n",
      "평균 나이: 40.52628892291985\n",
      "남성 나이 40.7536\n",
      "여성 나이 41.20377358490566\n"
     ]
    }
   ],
   "source": [
    "print(\"주문 2번 이상 회원가입자 수:\", ordered_total_num2)\n",
    "print(\"전체 대비 주문 2번 이상한 회원 비율:\", str(ordered_total_num2/total_num * 100)+\"%\")\n",
    "\n",
    "print(\"남자 비율:\", str(len(ordered_sex_man2)/ordered_total_num2 * 100) +\"%\" )\n",
    "print(\"여자 비율:\", str(len(ordered_sex_woman2)/ordered_total_num2 * 100) + \"%\" )\n",
    "print(\"접속횟수 평균:\", ordered_enter_mean2)\n",
    "print(\"평균 나이:\", ordered_Data2['나이'].mean())\n",
    "print(\"남성 나이\", ordered_sex_man2['나이'].mean())\n",
    "print(\"여성 나이\", ordered_sex_woman2['나이'].mean())"
   ]
  },
  {
   "cell_type": "markdown",
   "metadata": {},
   "source": [
    "##### 4.주문하지 않은 회원 가입자 정보"
   ]
  },
  {
   "cell_type": "code",
   "execution_count": 10,
   "metadata": {},
   "outputs": [],
   "source": [
    "# 회원 가입중 주문하지 않은 사용자 \n",
    "not_oredred = data[data['주문횟수']==0]\n",
    "\n",
    "ordered_total_num_none = len(not_oredred)\n",
    "ordered_sex_man_none =  not_oredred[not_oredred['성별'] == '남']\n",
    "ordered_sex_woman_none = not_oredred[not_oredred['성별'] == '여']\n",
    "ordered_enter_mean_none = not_oredred['접속횟수'].mean()"
   ]
  },
  {
   "cell_type": "code",
   "execution_count": 11,
   "metadata": {},
   "outputs": [
    {
     "name": "stdout",
     "output_type": "stream",
     "text": [
      "주문하지 않은 회원가입자 수: 21197\n",
      "전체 대비 주문하지 않은 회원 비율: 55.09148560141387%\n",
      "남자 비율: 40.12360239656555%\n",
      "여자 비율: 29.433410388262487%\n",
      "접속횟수 평균: 3.07916214558664\n",
      "평균 나이: 37.672453649101286\n",
      "남성 나이 37.681716637272196\n",
      "여성 나이 37.22968424426991\n"
     ]
    }
   ],
   "source": [
    "print(\"주문하지 않은 회원가입자 수:\", ordered_total_num_none)\n",
    "print(\"전체 대비 주문하지 않은 회원 비율:\", str(ordered_total_num_none/total_num * 100)+\"%\")\n",
    "\n",
    "print(\"남자 비율:\", str(len(ordered_sex_man_none)/ordered_total_num_none * 100) +\"%\" )\n",
    "print(\"여자 비율:\", str(len(ordered_sex_woman_none)/ordered_total_num_none * 100) + \"%\" )\n",
    "print(\"접속횟수 평균:\", ordered_enter_mean_none)\n",
    "print(\"평균 나이:\", not_oredred['나이'].mean())\n",
    "print(\"남성 나이\", ordered_sex_man_none['나이'].mean())\n",
    "print(\"여성 나이\", ordered_sex_woman_none['나이'].mean())"
   ]
  },
  {
   "cell_type": "markdown",
   "metadata": {},
   "source": [
    "##### 5. 연령대별 회원 정보 (5살 간격)"
   ]
  },
  {
   "cell_type": "code",
   "execution_count": 12,
   "metadata": {},
   "outputs": [
    {
     "data": {
      "text/plain": [
       "'\\n[변수 정리]\\n\\n총 인원: data\\n주문 1번: ordered_Data\\n주문 2번 이상: ordered_Data2\\n주문하지 않은: not_oredred\\n\\n'"
      ]
     },
     "execution_count": 12,
     "metadata": {},
     "output_type": "execute_result"
    }
   ],
   "source": [
    "'''\n",
    "[변수 정리]\n",
    "\n",
    "총 인원: data\n",
    "주문 1번: ordered_Data\n",
    "주문 2번 이상: ordered_Data2\n",
    "주문하지 않은: not_oredred\n",
    "\n",
    "'''\n"
   ]
  },
  {
   "cell_type": "code",
   "execution_count": 22,
   "metadata": {},
   "outputs": [
    {
     "data": {
      "text/html": [
       "<div>\n",
       "<style scoped>\n",
       "    .dataframe tbody tr th:only-of-type {\n",
       "        vertical-align: middle;\n",
       "    }\n",
       "\n",
       "    .dataframe tbody tr th {\n",
       "        vertical-align: top;\n",
       "    }\n",
       "\n",
       "    .dataframe thead th {\n",
       "        text-align: right;\n",
       "    }\n",
       "</style>\n",
       "<table border=\"1\" class=\"dataframe\">\n",
       "  <thead>\n",
       "    <tr style=\"text-align: right;\">\n",
       "      <th></th>\n",
       "      <th>AGE</th>\n",
       "      <th>CNT</th>\n",
       "    </tr>\n",
       "  </thead>\n",
       "  <tbody>\n",
       "    <tr>\n",
       "      <td>0</td>\n",
       "      <td>(0, 20]</td>\n",
       "      <td>863</td>\n",
       "    </tr>\n",
       "    <tr>\n",
       "      <td>1</td>\n",
       "      <td>(20, 25]</td>\n",
       "      <td>2070</td>\n",
       "    </tr>\n",
       "    <tr>\n",
       "      <td>2</td>\n",
       "      <td>(25, 30]</td>\n",
       "      <td>3619</td>\n",
       "    </tr>\n",
       "    <tr>\n",
       "      <td>3</td>\n",
       "      <td>(30, 35]</td>\n",
       "      <td>3217</td>\n",
       "    </tr>\n",
       "    <tr>\n",
       "      <td>4</td>\n",
       "      <td>(35, 40]</td>\n",
       "      <td>3202</td>\n",
       "    </tr>\n",
       "    <tr>\n",
       "      <td>5</td>\n",
       "      <td>(40, 45]</td>\n",
       "      <td>2958</td>\n",
       "    </tr>\n",
       "    <tr>\n",
       "      <td>6</td>\n",
       "      <td>(45, 50]</td>\n",
       "      <td>2434</td>\n",
       "    </tr>\n",
       "    <tr>\n",
       "      <td>7</td>\n",
       "      <td>(50, 55]</td>\n",
       "      <td>1440</td>\n",
       "    </tr>\n",
       "    <tr>\n",
       "      <td>8</td>\n",
       "      <td>(55, 100]</td>\n",
       "      <td>1394</td>\n",
       "    </tr>\n",
       "  </tbody>\n",
       "</table>\n",
       "</div>"
      ],
      "text/plain": [
       "         AGE   CNT\n",
       "0    (0, 20]   863\n",
       "1   (20, 25]  2070\n",
       "2   (25, 30]  3619\n",
       "3   (30, 35]  3217\n",
       "4   (35, 40]  3202\n",
       "5   (40, 45]  2958\n",
       "6   (45, 50]  2434\n",
       "7   (50, 55]  1440\n",
       "8  (55, 100]  1394"
      ]
     },
     "execution_count": 22,
     "metadata": {},
     "output_type": "execute_result"
    }
   ],
   "source": [
    "import seaborn as sns\n",
    "import matplotlib.pyplot as plt\n",
    "\n",
    "dataForAnalyzed = not_oredred\n",
    "\n",
    "category = [0]\n",
    "for i in range(15,100):\n",
    "    if i % 5 ==0: \n",
    "        num = i+5\n",
    "        category.append(num)\n",
    "        if num >= 55:\n",
    "            category.append(100)\n",
    "            break\n",
    "age_list = list(dataForAnalyzed['나이'])\n",
    "age_category = pd.cut(age_list,category)\n",
    "age_cnt= pd.DataFrame(age_category.value_counts())\n",
    "age_cnt = age_cnt.reset_index()\n",
    "age_cnt= age_cnt.rename(columns={\"index\":\"AGE\",0:\"CNT\"})\n",
    "age_cnt"
   ]
  },
  {
   "cell_type": "code",
   "execution_count": 23,
   "metadata": {},
   "outputs": [
    {
     "data": {
      "image/png": "[encoded data removed]",
      "text/plain": [
       "<Figure size 1152x432 with 1 Axes>"
      ]
     },
     "metadata": {},
     "output_type": "display_data"
    }
   ],
   "source": [
    "sns.set(style=\"whitegrid\") \n",
    "\n",
    "plt.figure(figsize = (16,6))\n",
    "plt.plot(age_cnt[\"CNT\"],'-b')\n",
    "sns.barplot(x=\"AGE\",y=\"CNT\", data=age_cnt)\n",
    "plt.title(\"Rounz Member Age\")\n",
    "plt.show()"
   ]
  },
  {
   "cell_type": "code",
   "execution_count": 15,
   "metadata": {},
   "outputs": [
    {
     "ename": "NameError",
     "evalue": "name 'CON1' is not defined",
     "output_type": "error",
     "traceback": [
      "\u001b[1;31m---------------------------------------------------------------------------\u001b[0m",
      "\u001b[1;31mNameError\u001b[0m                                 Traceback (most recent call last)",
      "\u001b[1;32m<ipython-input-15-1206f71b0a8c>\u001b[0m in \u001b[0;36m<module>\u001b[1;34m\u001b[0m\n\u001b[0;32m      2\u001b[0m \u001b[0mCON_10\u001b[0m \u001b[1;33m=\u001b[0m \u001b[0mdata\u001b[0m\u001b[1;33m[\u001b[0m\u001b[1;34m'나이'\u001b[0m\u001b[1;33m]\u001b[0m \u001b[1;33m>=\u001b[0m\u001b[1;36m0\u001b[0m\u001b[1;33m\u001b[0m\u001b[1;33m\u001b[0m\u001b[0m\n\u001b[0;32m      3\u001b[0m \u001b[0mCON2\u001b[0m \u001b[1;33m=\u001b[0m \u001b[0mdata\u001b[0m\u001b[1;33m[\u001b[0m\u001b[1;34m'나이'\u001b[0m\u001b[1;33m]\u001b[0m \u001b[1;33m<=\u001b[0m\u001b[1;36m10\u001b[0m\u001b[1;33m\u001b[0m\u001b[1;33m\u001b[0m\u001b[0m\n\u001b[1;32m----> 4\u001b[1;33m \u001b[0mten_data\u001b[0m \u001b[1;33m=\u001b[0m \u001b[0mdata\u001b[0m\u001b[1;33m[\u001b[0m\u001b[0mCON1\u001b[0m \u001b[1;32mand\u001b[0m \u001b[0mCON2\u001b[0m\u001b[1;33m]\u001b[0m\u001b[1;33m\u001b[0m\u001b[1;33m\u001b[0m\u001b[0m\n\u001b[0m\u001b[0;32m      5\u001b[0m \u001b[0mlen\u001b[0m\u001b[1;33m(\u001b[0m\u001b[0mten_data\u001b[0m\u001b[1;33m)\u001b[0m\u001b[1;33m\u001b[0m\u001b[1;33m\u001b[0m\u001b[0m\n",
      "\u001b[1;31mNameError\u001b[0m: name 'CON1' is not defined"
     ]
    }
   ],
   "source": [
    "#ten_data = data[data['나이'] <= 10]# and data['나이'] <=20]\n",
    "CON_10 = data['나이'] >=0\n",
    "CON2 = data['나이'] <=10\n",
    "ten_data = data[CON1 and CON2]\n",
    "len(ten_data)"
   ]
  },
  {
   "cell_type": "code",
   "execution_count": null,
   "metadata": {},
   "outputs": [],
   "source": []
  }
 ],
 "metadata": {
  "kernelspec": {
   "display_name": "Python 3",
   "language": "python",
   "name": "python3"
  },
  "language_info": {
   "codemirror_mode": {
    "name": "ipython",
    "version": 3
   },
   "file_extension": ".py",
   "mimetype": "text/x-python",
   "name": "python",
   "nbconvert_exporter": "python",
   "pygments_lexer": "ipython3",
   "version": "3.7.4"
  }
 },
 "nbformat": 4,
 "nbformat_minor": 2
}
